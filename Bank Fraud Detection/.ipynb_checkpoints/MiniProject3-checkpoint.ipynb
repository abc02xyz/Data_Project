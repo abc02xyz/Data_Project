{
 "cells": [
  {
   "cell_type": "markdown",
   "metadata": {},
   "source": [
    "# Mini Project 3: Bank Fraud Detection"
   ]
  },
  {
   "cell_type": "markdown",
   "metadata": {},
   "source": [
    "#### 1. Given the data below, please classify the two cluster data and find the boundary line to devide the two groups. Use visualization to show your answer. "
   ]
  },
  {
   "cell_type": "code",
   "execution_count": 8,
   "metadata": {},
   "outputs": [],
   "source": [
    "import numpy as np\n",
    "import pandas as pd\n",
    "import matplotlib.pyplot as plt\n",
    "% matplotlib inline\n",
    "from sklearn import datasets\n",
    "\n",
    "X,Y = datasets.make_blobs(n_samples=200, n_features=2, centers=2, random_state=2)"
   ]
  },
  {
   "cell_type": "code",
   "execution_count": null,
   "metadata": {
    "collapsed": true
   },
   "outputs": [],
   "source": []
  },
  {
   "cell_type": "markdown",
   "metadata": {},
   "source": [
    "#### 2. In problem 1, we use classification method to classify two two-feature groups. What if the number of features increase? How can we use the method we learned from the class to solve more complicated problems. Following you will need to solve a Bank Fraud Detection Case where you will classify two multiple-feature groups."
   ]
  },
  {
   "cell_type": "markdown",
   "metadata": {},
   "source": [
    "**Data Description:**\n",
    "\n",
    "**label.test.csv** - the test set, contains customer’s basic attributes and payment histories. You must predict whether these customers are credible or not.\n",
    "\n",
    "**sample submission.csv** - a file showing the correct submission format. You must replace the NA’s with the predicted class labels. You should show your results by submitting the .csv file according to the format of this sample submission.csv.\n",
    "\n",
    "**id**: A unique Id field which represents a customer\n",
    "\n",
    "**X1**: Credit lineX2: Gender (1 = male; 2 = female).\n",
    "\n",
    "**X3**: Education (1 = graduate school; 2 = university; 3 = high school; 4 = others). X4: Marital status (1 = married; 2 = single; 3 = others).\n",
    "\n",
    "**X5**: Age (year).\n",
    "\n",
    "**X6 - X11**: History of past payment. X6 = September, 2015;\n",
    "\n",
    "**X7** = August, 2015;\n",
    "\n",
    "**X11** =April, 2015. -1 = pay one month ahead; -2 = pay two month ahead; 0 = pay on time; Positive means the payment delayed months, 1 = delay 1 month, 2 = delay 2 months, etc.X12- X17: Amount in bill statement.\n",
    "\n",
    "**X12** = amount of bill statementSeptember, 2015\n",
    "\n",
    "**X13** = amount of bill statementAugust, 2015\n",
    "\n",
    "**X17** = amount of bill statementApril, 2015. \n",
    "\n",
    "**X18-X23**: Amount of previous payment\n",
    "\n",
    "**X18** = amount paid in September, 2015; X19 = amount paid in August, 2015; X23 = amount paid in April, 2015.\n",
    "\n",
    "**Y**: A binary response variable to indicate whether the customer is creditable (1) or not (0).\n",
    "\n",
    "This is a real problem to classify multi-feature data into two groups.\n"
   ]
  },
  {
   "cell_type": "markdown",
   "metadata": {},
   "source": [
    "**Hint for steps**\n",
    "1.\tLoad data\n",
    "2.\tThere are so many features, please discern the categorical and continuous variables.\n",
    "3.\tCheck if features have linear relationship between each other.\n",
    "( You can google “Component Analysis with KMeans visuals – Kaggle” and learn how to do this step from Kaggle website)\n",
    "4.\tYou don’t need to do PCA right now. \n",
    "5.\tChoose the proper method to train the model:\n",
    "binary classification Models: Logistic regression, Support vector machine, Naive Bayes, k-nearest neighbors, neural network, Decision tree…\n",
    "\n",
    "6.\tEvaluate your model. \n",
    "7.\tUse your model to train the data. And make your submission file.\n"
   ]
  },
  {
   "cell_type": "code",
   "execution_count": null,
   "metadata": {
    "collapsed": true
   },
   "outputs": [],
   "source": []
  }
 ],
 "metadata": {
  "anaconda-cloud": {},
  "kernelspec": {
   "display_name": "Python 3",
   "language": "python",
   "name": "python3"
  },
  "language_info": {
   "codemirror_mode": {
    "name": "ipython",
    "version": 3
   },
   "file_extension": ".py",
   "mimetype": "text/x-python",
   "name": "python",
   "nbconvert_exporter": "python",
   "pygments_lexer": "ipython3",
   "version": "3.7.1"
  }
 },
 "nbformat": 4,
 "nbformat_minor": 1
}
