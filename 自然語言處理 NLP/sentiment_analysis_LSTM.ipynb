{
 "cells": [
  {
   "cell_type": "markdown",
   "metadata": {},
   "source": [
    "# Sentiment Analysis LSTM\n",
    "\n",
    "In this notebook, you will learn how to build a deep LSTM network and how to insert a fixed pre-trained embedding layer in Keras"
   ]
  },
  {
   "cell_type": "markdown",
   "metadata": {},
   "source": [
    "<img src=\"resources/pipeline.png\" width=\"800px\">"
   ]
  },
  {
   "cell_type": "markdown",
   "metadata": {},
   "source": [
    "## Still Emoji"
   ]
  },
  {
   "cell_type": "code",
   "execution_count": 1,
   "metadata": {
    "code_folding": [
     0
    ]
   },
   "outputs": [],
   "source": [
    "# import \n",
    "import numpy as np\n",
    "import utils\n",
    "from tensorflow.keras.models import Model\n",
    "from tensorflow.keras.layers import Dense, Input, Dropout, LSTM, Activation, Embedding\n",
    "from tensorflow.keras.preprocessing import sequence\n",
    "\n",
    "import matplotlib.pyplot as plt\n",
    "%matplotlib inline\n",
    "%config InlineBackend.figure_format='retina'\n",
    "\n",
    "\n",
    "np.random.seed(1)"
   ]
  },
  {
   "cell_type": "code",
   "execution_count": 2,
   "metadata": {},
   "outputs": [],
   "source": [
    "train_x, test_x, train_y, test_y = utils.load_emoji()"
   ]
  },
  {
   "cell_type": "markdown",
   "metadata": {},
   "source": [
    "**Load pretrained word embeddings**\n",
    "\n",
    "2 dictionaries are loaded:\n",
    "\n",
    "- `word_to_index`: map a word to its index in the vocabulary\n",
    "    - Example:  `'word' -> 1234`\n",
    "\n",
    "- `word_to_vec_map`: map a word to its embedding\n",
    "    - Example: `'word' -> [0.1, 0.2, ..., 0.45]`\n",
    "\n",
    "When adding a custom embedding layer in Keras, we can only load the pretrained embedding as a big matrix instead of a dictionary. An index will help us locate the entry for a given word."
   ]
  },
  {
   "cell_type": "markdown",
   "metadata": {},
   "source": [
    "### Word Embeddings & One Hot"
   ]
  },
  {
   "cell_type": "code",
   "execution_count": 3,
   "metadata": {},
   "outputs": [
    {
     "name": "stdout",
     "output_type": "stream",
     "text": [
      "start downloading...\n",
      "start extracting compressed files...\n",
      "data files are now available at resources/glove\n",
      "loading glove... this may take a while...\n",
      "glove loaded successfully.\n"
     ]
    }
   ],
   "source": [
    "word_to_index, word_to_vec_map = utils.load_glove_vecs()"
   ]
  },
  {
   "cell_type": "code",
   "execution_count": 4,
   "metadata": {},
   "outputs": [],
   "source": [
    "utils.sentences_to_indices?"
   ]
  },
  {
   "cell_type": "code",
   "execution_count": 5,
   "metadata": {},
   "outputs": [
    {
     "data": {
      "text/plain": [
       "array([[185457., 222471., 193716.,      0.,      0.],\n",
       "       [185457., 174339., 193716.,      0.,      0.]])"
      ]
     },
     "execution_count": 5,
     "metadata": {},
     "output_type": "execute_result"
    }
   ],
   "source": [
    "# Convert word to the index in vocabulary\n",
    "utils.sentences_to_indices(\n",
    "    np.array([\"i like it\", \"i hate it\"]),  # array of test sentences\n",
    "    word_to_index, \n",
    "    max_len = 5)"
   ]
  },
  {
   "cell_type": "code",
   "execution_count": 6,
   "metadata": {},
   "outputs": [
    {
     "name": "stdout",
     "output_type": "stream",
     "text": [
      "max number of words in a sentence: 10\n"
     ]
    }
   ],
   "source": [
    "maxlen = max([len(x.split()) for x in train_x])\n",
    "print('max number of words in a sentence:', maxlen)"
   ]
  },
  {
   "cell_type": "code",
   "execution_count": 7,
   "metadata": {},
   "outputs": [],
   "source": [
    "# Convert training/testing features into index list\n",
    "train_x = utils.sentences_to_indices(train_x, word_to_index, maxlen)\n",
    "test_x = utils.sentences_to_indices(test_x, word_to_index, maxlen)\n",
    "\n",
    "# Convert training/testing labels into one hot array\n",
    "train_y = utils.convert_to_one_hot(train_y, C = 5)\n",
    "test_y = utils.convert_to_one_hot(test_y, C = 5)"
   ]
  },
  {
   "cell_type": "code",
   "execution_count": 8,
   "metadata": {},
   "outputs": [],
   "source": [
    "# Check to make sure the shape looks good\n",
    "assert train_x.shape == (132, maxlen)\n",
    "assert train_y.shape == (132, 5)"
   ]
  },
  {
   "cell_type": "markdown",
   "metadata": {},
   "source": [
    "### Embedding Layer\n",
    "\n",
    "We need to build a embedding matrix where each row represent a word vector."
   ]
  },
  {
   "cell_type": "code",
   "execution_count": 9,
   "metadata": {},
   "outputs": [],
   "source": [
    "def pretrained_embedding_layer(word_to_index, word_to_vec_map):\n",
    "    \"\"\"\n",
    "    Build and return a Keras Embedding Layer given word_to_vec mapping and word_to_index mapping\n",
    "    \n",
    "    Args:\n",
    "        word_to_index (dict[str->int]): map from a word to its index in vocabulary\n",
    "        word_to_vec_map (dict[str->np.ndarray]): map from a word to a vector with shape (N,) where N is the length of a word vector (50 in our case)\n",
    "\n",
    "    Return:\n",
    "        Keras.layers.Embedding: Embedding layer\n",
    "    \"\"\"\n",
    "    \n",
    "    # Keras requires vocab length start from index 1\n",
    "    vocab_len = len(word_to_index) + 1  \n",
    "    emb_dim = list(word_to_vec_map.values())[0].shape[0]\n",
    "    \n",
    "    # Initialize the embedding matrix as a numpy array of zeros of shape (vocab_len, dimensions of word vectors = emb_dim)\n",
    "    emb_matrix = np.zeros((vocab_len, emb_dim))\n",
    "    \n",
    "    # Set each row \"index\" of the embedding matrix to be the word vector representation of the \"index\"th word of the vocabulary\n",
    "    for word, index in word_to_index.items():\n",
    "        emb_matrix[index, :] = word_to_vec_map[word]\n",
    "\n",
    "    # Define Keras embedding layer with the correct output/input sizes, make it trainable. Use Embedding(...). Make sure to set trainable=False. \n",
    "    return Embedding(\n",
    "        input_dim=vocab_len, \n",
    "        output_dim=emb_dim, \n",
    "        trainable=False,  # Indicating this is a pre-trained embedding \n",
    "        weights=[emb_matrix])"
   ]
  },
  {
   "cell_type": "markdown",
   "metadata": {},
   "source": [
    "For more information on how to define a pre-trained embedding layer in Keras, please refer to [this post](https://blog.keras.io/using-pre-trained-word-embeddings-in-a-keras-model.html)."
   ]
  },
  {
   "cell_type": "markdown",
   "metadata": {},
   "source": [
    "### Build the Model"
   ]
  },
  {
   "cell_type": "markdown",
   "metadata": {},
   "source": [
    "<img src=\"resources/deep_lstm.png\" style=\"width:700px;height:400px;\"> <br>\n",
    "<caption><center> A 2-layer LSTM sequence classifier. </center></caption>"
   ]
  },
  {
   "cell_type": "code",
   "execution_count": 10,
   "metadata": {},
   "outputs": [],
   "source": [
    "def build_emoji_model(input_dim, word_to_index, word_to_vec_map):\n",
    "    \"\"\"\n",
    "    Build and return the Keras model\n",
    "    \n",
    "    Args:\n",
    "        input_dim: The dim of input layer\n",
    "        word_to_vec_map (dict[str->np.ndarray]): map from a word to a vector with shape (N,) where N is the length of a word vector (50 in our case)\n",
    "        word_to_index (dict[str->int]): map from a word to its index in vocabulary\n",
    "    \n",
    "    Returns:\n",
    "        Keras.models.Model: 2-layer LSTM model\n",
    "    \"\"\"\n",
    "    \n",
    "    # Input layer\n",
    "    sentence_indices = Input(shape=(input_dim,), dtype='int32')\n",
    "    \n",
    "    # Embedding layer\n",
    "    embedding_layer = pretrained_embedding_layer(word_to_index, word_to_vec_map)\n",
    "    embeddings = embedding_layer(sentence_indices)   \n",
    "    \n",
    "    # 2-layer LSTM\n",
    "    X = LSTM(128, return_sequences=True, recurrent_dropout=0.5)(embeddings)  # N->N RNN\n",
    "    X = Dropout(rate=0.8)(X)\n",
    "    X = LSTM(128, recurrent_dropout=0.5)(X)  # N -> 1 RNN\n",
    "    X = Dropout(rate=0.8)(X)\n",
    "    X = Dense(5, activation='softmax')(X)\n",
    "    \n",
    "    # Create and return model\n",
    "    model = Model(inputs=sentence_indices, outputs=X)\n",
    "    \n",
    "    return model"
   ]
  },
  {
   "cell_type": "code",
   "execution_count": 11,
   "metadata": {},
   "outputs": [
    {
     "name": "stdout",
     "output_type": "stream",
     "text": [
      "WARNING:tensorflow:Large dropout rate: 0.8 (>0.5). In TensorFlow 2.x, dropout() uses dropout rate instead of keep_prob. Please ensure that this is intended.\n",
      "WARNING:tensorflow:Large dropout rate: 0.8 (>0.5). In TensorFlow 2.x, dropout() uses dropout rate instead of keep_prob. Please ensure that this is intended.\n",
      "Model: \"model\"\n",
      "_________________________________________________________________\n",
      "Layer (type)                 Output Shape              Param #   \n",
      "=================================================================\n",
      "input_1 (InputLayer)         [(None, 10)]              0         \n",
      "_________________________________________________________________\n",
      "embedding (Embedding)        (None, 10, 50)            20000050  \n",
      "_________________________________________________________________\n",
      "lstm (LSTM)                  (None, 10, 128)           91648     \n",
      "_________________________________________________________________\n",
      "dropout (Dropout)            (None, 10, 128)           0         \n",
      "_________________________________________________________________\n",
      "lstm_1 (LSTM)                (None, 128)               131584    \n",
      "_________________________________________________________________\n",
      "dropout_1 (Dropout)          (None, 128)               0         \n",
      "_________________________________________________________________\n",
      "dense (Dense)                (None, 5)                 645       \n",
      "=================================================================\n",
      "Total params: 20,223,927\n",
      "Trainable params: 223,877\n",
      "Non-trainable params: 20,000,050\n",
      "_________________________________________________________________\n"
     ]
    }
   ],
   "source": [
    "emoji_model = build_emoji_model(\n",
    "    maxlen, \n",
    "    word_to_index, \n",
    "    word_to_vec_map)\n",
    "\n",
    "emoji_model.summary()"
   ]
  },
  {
   "cell_type": "code",
   "execution_count": 12,
   "metadata": {},
   "outputs": [],
   "source": [
    "emoji_model.compile(\n",
    "    loss='categorical_crossentropy', \n",
    "    optimizer='adam', \n",
    "    metrics=['accuracy'])"
   ]
  },
  {
   "cell_type": "code",
   "execution_count": 13,
   "metadata": {},
   "outputs": [
    {
     "name": "stdout",
     "output_type": "stream",
     "text": [
      "Train on 132 samples, validate on 56 samples\n",
      "Epoch 1/100\n",
      "WARNING:tensorflow:Large dropout rate: 0.8 (>0.5). In TensorFlow 2.x, dropout() uses dropout rate instead of keep_prob. Please ensure that this is intended.\n",
      "WARNING:tensorflow:Large dropout rate: 0.8 (>0.5). In TensorFlow 2.x, dropout() uses dropout rate instead of keep_prob. Please ensure that this is intended.\n",
      "WARNING:tensorflow:Large dropout rate: 0.8 (>0.5). In TensorFlow 2.x, dropout() uses dropout rate instead of keep_prob. Please ensure that this is intended.\n",
      "132/132 [==============================] - 6s 46ms/sample - loss: 1.6133 - accuracy: 0.1515 - val_loss: 1.5620 - val_accuracy: 0.3393\n",
      "Epoch 2/100\n",
      "132/132 [==============================] - 0s 2ms/sample - loss: 1.5591 - accuracy: 0.2500 - val_loss: 1.5348 - val_accuracy: 0.3393\n",
      "Epoch 3/100\n",
      "132/132 [==============================] - 0s 2ms/sample - loss: 1.5643 - accuracy: 0.2803 - val_loss: 1.5117 - val_accuracy: 0.3393\n",
      "Epoch 4/100\n",
      "132/132 [==============================] - 0s 2ms/sample - loss: 1.5587 - accuracy: 0.3485 - val_loss: 1.4937 - val_accuracy: 0.3571\n",
      "Epoch 5/100\n",
      "132/132 [==============================] - 0s 2ms/sample - loss: 1.5195 - accuracy: 0.3712 - val_loss: 1.4700 - val_accuracy: 0.4464\n",
      "Epoch 6/100\n",
      "132/132 [==============================] - 0s 2ms/sample - loss: 1.5006 - accuracy: 0.3561 - val_loss: 1.4420 - val_accuracy: 0.4286\n",
      "Epoch 7/100\n",
      "132/132 [==============================] - 0s 2ms/sample - loss: 1.4573 - accuracy: 0.4091 - val_loss: 1.4130 - val_accuracy: 0.5000\n",
      "Epoch 8/100\n",
      "132/132 [==============================] - 0s 2ms/sample - loss: 1.4313 - accuracy: 0.4167 - val_loss: 1.3757 - val_accuracy: 0.5000\n",
      "Epoch 9/100\n",
      "132/132 [==============================] - 0s 2ms/sample - loss: 1.3552 - accuracy: 0.5000 - val_loss: 1.3314 - val_accuracy: 0.5179\n",
      "Epoch 10/100\n",
      "132/132 [==============================] - 0s 2ms/sample - loss: 1.3542 - accuracy: 0.4697 - val_loss: 1.2796 - val_accuracy: 0.5179\n",
      "Epoch 11/100\n",
      "132/132 [==============================] - 0s 2ms/sample - loss: 1.3070 - accuracy: 0.4242 - val_loss: 1.2201 - val_accuracy: 0.5536\n",
      "Epoch 12/100\n",
      "132/132 [==============================] - 0s 2ms/sample - loss: 1.2088 - accuracy: 0.5076 - val_loss: 1.1581 - val_accuracy: 0.5179\n",
      "Epoch 13/100\n",
      "132/132 [==============================] - 0s 2ms/sample - loss: 1.1608 - accuracy: 0.5000 - val_loss: 1.1659 - val_accuracy: 0.4821\n",
      "Epoch 14/100\n",
      "132/132 [==============================] - 0s 2ms/sample - loss: 1.1878 - accuracy: 0.5379 - val_loss: 1.0511 - val_accuracy: 0.5357\n",
      "Epoch 15/100\n",
      "132/132 [==============================] - 0s 2ms/sample - loss: 1.0703 - accuracy: 0.6288 - val_loss: 0.9796 - val_accuracy: 0.6250\n",
      "Epoch 16/100\n",
      "132/132 [==============================] - 0s 2ms/sample - loss: 1.0339 - accuracy: 0.5985 - val_loss: 0.9322 - val_accuracy: 0.6071\n",
      "Epoch 17/100\n",
      "132/132 [==============================] - 0s 2ms/sample - loss: 0.9831 - accuracy: 0.6667 - val_loss: 0.8707 - val_accuracy: 0.6429\n",
      "Epoch 18/100\n",
      "132/132 [==============================] - 0s 2ms/sample - loss: 0.9667 - accuracy: 0.6515 - val_loss: 0.8199 - val_accuracy: 0.7321\n",
      "Epoch 19/100\n",
      "132/132 [==============================] - 0s 2ms/sample - loss: 0.9318 - accuracy: 0.6515 - val_loss: 0.7475 - val_accuracy: 0.7679\n",
      "Epoch 20/100\n",
      "132/132 [==============================] - 0s 2ms/sample - loss: 0.7885 - accuracy: 0.7045 - val_loss: 0.7048 - val_accuracy: 0.7679\n",
      "Epoch 21/100\n",
      "132/132 [==============================] - 0s 2ms/sample - loss: 0.8318 - accuracy: 0.6894 - val_loss: 0.6468 - val_accuracy: 0.8214\n",
      "Epoch 22/100\n",
      "132/132 [==============================] - 0s 2ms/sample - loss: 0.7157 - accuracy: 0.7273 - val_loss: 0.6227 - val_accuracy: 0.8393\n",
      "Epoch 23/100\n",
      "132/132 [==============================] - 0s 2ms/sample - loss: 0.7739 - accuracy: 0.7197 - val_loss: 0.6774 - val_accuracy: 0.7143\n",
      "Epoch 24/100\n",
      "132/132 [==============================] - 0s 2ms/sample - loss: 0.7448 - accuracy: 0.7424 - val_loss: 0.6242 - val_accuracy: 0.7321\n",
      "Epoch 25/100\n",
      "132/132 [==============================] - 0s 2ms/sample - loss: 0.6370 - accuracy: 0.7955 - val_loss: 0.6929 - val_accuracy: 0.7500\n",
      "Epoch 26/100\n",
      "132/132 [==============================] - 0s 2ms/sample - loss: 0.7729 - accuracy: 0.7273 - val_loss: 0.6325 - val_accuracy: 0.7857\n",
      "Epoch 27/100\n",
      "132/132 [==============================] - 0s 2ms/sample - loss: 0.6706 - accuracy: 0.7727 - val_loss: 0.6429 - val_accuracy: 0.8036\n",
      "Epoch 28/100\n",
      "132/132 [==============================] - 0s 2ms/sample - loss: 0.6572 - accuracy: 0.7727 - val_loss: 0.6031 - val_accuracy: 0.8036\n",
      "Epoch 29/100\n",
      "132/132 [==============================] - 0s 2ms/sample - loss: 0.6366 - accuracy: 0.7652 - val_loss: 0.4942 - val_accuracy: 0.8214\n",
      "Epoch 30/100\n",
      "132/132 [==============================] - 0s 2ms/sample - loss: 0.4917 - accuracy: 0.8409 - val_loss: 0.5616 - val_accuracy: 0.8036\n",
      "Epoch 31/100\n",
      "132/132 [==============================] - 0s 2ms/sample - loss: 0.4692 - accuracy: 0.8485 - val_loss: 0.5470 - val_accuracy: 0.7679\n",
      "Epoch 32/100\n",
      "132/132 [==============================] - 0s 2ms/sample - loss: 0.4499 - accuracy: 0.8712 - val_loss: 0.4661 - val_accuracy: 0.8214\n",
      "Epoch 33/100\n",
      "132/132 [==============================] - 0s 2ms/sample - loss: 0.4445 - accuracy: 0.8258 - val_loss: 0.4121 - val_accuracy: 0.8393\n",
      "Epoch 34/100\n",
      "132/132 [==============================] - 0s 2ms/sample - loss: 0.4974 - accuracy: 0.8561 - val_loss: 0.5152 - val_accuracy: 0.8393\n",
      "Epoch 35/100\n",
      "132/132 [==============================] - 0s 2ms/sample - loss: 0.4845 - accuracy: 0.7955 - val_loss: 0.4452 - val_accuracy: 0.8393\n",
      "Epoch 36/100\n",
      "132/132 [==============================] - 0s 2ms/sample - loss: 0.4785 - accuracy: 0.8485 - val_loss: 0.5326 - val_accuracy: 0.8393\n",
      "Epoch 37/100\n",
      "132/132 [==============================] - 0s 2ms/sample - loss: 0.4081 - accuracy: 0.8864 - val_loss: 0.5190 - val_accuracy: 0.8393\n",
      "Epoch 38/100\n",
      "132/132 [==============================] - 0s 2ms/sample - loss: 0.3551 - accuracy: 0.8788 - val_loss: 0.4084 - val_accuracy: 0.8214\n",
      "Epoch 39/100\n",
      "132/132 [==============================] - 0s 2ms/sample - loss: 0.4125 - accuracy: 0.8636 - val_loss: 0.4263 - val_accuracy: 0.8571\n",
      "Epoch 40/100\n",
      "132/132 [==============================] - 0s 2ms/sample - loss: 0.3935 - accuracy: 0.8636 - val_loss: 0.4948 - val_accuracy: 0.8571\n",
      "Epoch 41/100\n",
      "132/132 [==============================] - 0s 2ms/sample - loss: 0.4195 - accuracy: 0.8636 - val_loss: 0.2762 - val_accuracy: 0.8750\n",
      "Epoch 42/100\n",
      "132/132 [==============================] - 0s 2ms/sample - loss: 0.3831 - accuracy: 0.8864 - val_loss: 0.3088 - val_accuracy: 0.8750\n",
      "Epoch 43/100\n",
      "132/132 [==============================] - 0s 2ms/sample - loss: 0.2894 - accuracy: 0.8864 - val_loss: 0.5872 - val_accuracy: 0.8393\n",
      "Epoch 44/100\n",
      "132/132 [==============================] - 0s 2ms/sample - loss: 0.4663 - accuracy: 0.8333 - val_loss: 0.6028 - val_accuracy: 0.8214\n",
      "Epoch 45/100\n",
      "132/132 [==============================] - 0s 2ms/sample - loss: 0.3524 - accuracy: 0.8712 - val_loss: 0.2929 - val_accuracy: 0.8750\n",
      "Epoch 46/100\n",
      "132/132 [==============================] - 0s 2ms/sample - loss: 0.3621 - accuracy: 0.8712 - val_loss: 0.2957 - val_accuracy: 0.8571\n",
      "Epoch 47/100\n",
      "132/132 [==============================] - 0s 2ms/sample - loss: 0.3475 - accuracy: 0.9167 - val_loss: 0.5295 - val_accuracy: 0.8393\n",
      "Epoch 48/100\n",
      "132/132 [==============================] - 0s 2ms/sample - loss: 0.3248 - accuracy: 0.9242 - val_loss: 0.5594 - val_accuracy: 0.8393\n",
      "Epoch 49/100\n",
      "132/132 [==============================] - 0s 2ms/sample - loss: 0.3003 - accuracy: 0.9167 - val_loss: 0.4293 - val_accuracy: 0.8393\n",
      "Epoch 50/100\n",
      "132/132 [==============================] - 0s 2ms/sample - loss: 0.2419 - accuracy: 0.9015 - val_loss: 0.4598 - val_accuracy: 0.8393\n",
      "Epoch 51/100\n",
      "132/132 [==============================] - 0s 2ms/sample - loss: 0.2939 - accuracy: 0.9015 - val_loss: 0.5706 - val_accuracy: 0.8393\n",
      "Epoch 52/100\n",
      "132/132 [==============================] - 0s 2ms/sample - loss: 0.3004 - accuracy: 0.8939 - val_loss: 0.3439 - val_accuracy: 0.8393\n",
      "Epoch 53/100\n",
      "132/132 [==============================] - 0s 2ms/sample - loss: 0.3245 - accuracy: 0.8939 - val_loss: 0.2967 - val_accuracy: 0.8571\n",
      "Epoch 54/100\n",
      "132/132 [==============================] - 0s 2ms/sample - loss: 0.2780 - accuracy: 0.9091 - val_loss: 0.4305 - val_accuracy: 0.8393\n",
      "Epoch 55/100\n",
      "132/132 [==============================] - 0s 2ms/sample - loss: 0.2890 - accuracy: 0.9015 - val_loss: 0.4910 - val_accuracy: 0.8393\n",
      "Epoch 56/100\n",
      "132/132 [==============================] - 0s 2ms/sample - loss: 0.2197 - accuracy: 0.9318 - val_loss: 0.3474 - val_accuracy: 0.8571\n",
      "Epoch 57/100\n",
      "132/132 [==============================] - 0s 2ms/sample - loss: 0.2162 - accuracy: 0.9470 - val_loss: 0.4379 - val_accuracy: 0.8571\n",
      "Epoch 58/100\n",
      "132/132 [==============================] - 0s 2ms/sample - loss: 0.2562 - accuracy: 0.8939 - val_loss: 0.3081 - val_accuracy: 0.8750\n",
      "Epoch 59/100\n",
      "132/132 [==============================] - 0s 2ms/sample - loss: 0.2458 - accuracy: 0.9470 - val_loss: 0.4009 - val_accuracy: 0.8393\n",
      "Epoch 60/100\n",
      "132/132 [==============================] - 0s 2ms/sample - loss: 0.1928 - accuracy: 0.9318 - val_loss: 0.2993 - val_accuracy: 0.8571\n",
      "Epoch 61/100\n",
      "132/132 [==============================] - 0s 2ms/sample - loss: 0.1895 - accuracy: 0.9470 - val_loss: 0.3085 - val_accuracy: 0.8750\n",
      "Epoch 62/100\n",
      "132/132 [==============================] - 0s 2ms/sample - loss: 0.1979 - accuracy: 0.9394 - val_loss: 0.2309 - val_accuracy: 0.9107\n",
      "Epoch 63/100\n",
      "132/132 [==============================] - 0s 2ms/sample - loss: 0.2520 - accuracy: 0.9167 - val_loss: 0.2545 - val_accuracy: 0.8929\n",
      "Epoch 64/100\n",
      "132/132 [==============================] - 0s 2ms/sample - loss: 0.1890 - accuracy: 0.9242 - val_loss: 0.3810 - val_accuracy: 0.8571\n",
      "Epoch 65/100\n",
      "132/132 [==============================] - 0s 2ms/sample - loss: 0.2261 - accuracy: 0.9167 - val_loss: 0.2937 - val_accuracy: 0.8750\n",
      "Epoch 66/100\n",
      "132/132 [==============================] - 0s 2ms/sample - loss: 0.2249 - accuracy: 0.9470 - val_loss: 0.2042 - val_accuracy: 0.9107\n",
      "Epoch 67/100\n",
      "132/132 [==============================] - 0s 2ms/sample - loss: 0.1481 - accuracy: 0.9697 - val_loss: 0.2260 - val_accuracy: 0.8929\n",
      "Epoch 68/100\n",
      "132/132 [==============================] - 0s 2ms/sample - loss: 0.1476 - accuracy: 0.9621 - val_loss: 0.4338 - val_accuracy: 0.8750\n",
      "Epoch 69/100\n",
      "132/132 [==============================] - 0s 2ms/sample - loss: 0.1337 - accuracy: 0.9773 - val_loss: 0.4972 - val_accuracy: 0.8750\n",
      "Epoch 70/100\n",
      "132/132 [==============================] - 0s 2ms/sample - loss: 0.1592 - accuracy: 0.9545 - val_loss: 0.4040 - val_accuracy: 0.8750\n",
      "Epoch 71/100\n",
      "132/132 [==============================] - 0s 2ms/sample - loss: 0.4233 - accuracy: 0.9015 - val_loss: 0.3589 - val_accuracy: 0.8571\n",
      "Epoch 72/100\n",
      "132/132 [==============================] - 0s 2ms/sample - loss: 0.2065 - accuracy: 0.9091 - val_loss: 0.6253 - val_accuracy: 0.7857\n",
      "Epoch 73/100\n",
      "132/132 [==============================] - 0s 2ms/sample - loss: 0.5246 - accuracy: 0.8561 - val_loss: 0.7929 - val_accuracy: 0.8036\n",
      "Epoch 74/100\n",
      "132/132 [==============================] - 0s 2ms/sample - loss: 0.3679 - accuracy: 0.8788 - val_loss: 0.5822 - val_accuracy: 0.8214\n",
      "Epoch 75/100\n",
      "132/132 [==============================] - 0s 2ms/sample - loss: 0.1914 - accuracy: 0.9318 - val_loss: 0.2981 - val_accuracy: 0.8929\n",
      "Epoch 76/100\n",
      "132/132 [==============================] - 0s 2ms/sample - loss: 0.2802 - accuracy: 0.9015 - val_loss: 0.1551 - val_accuracy: 0.9464\n",
      "Epoch 77/100\n",
      "132/132 [==============================] - 0s 2ms/sample - loss: 0.4128 - accuracy: 0.9091 - val_loss: 0.2275 - val_accuracy: 0.8750\n",
      "Epoch 78/100\n",
      "132/132 [==============================] - 0s 2ms/sample - loss: 0.2284 - accuracy: 0.9242 - val_loss: 0.3555 - val_accuracy: 0.8929\n",
      "Epoch 79/100\n",
      "132/132 [==============================] - 0s 2ms/sample - loss: 0.3021 - accuracy: 0.9015 - val_loss: 0.4353 - val_accuracy: 0.8571\n",
      "Epoch 80/100\n",
      "132/132 [==============================] - 0s 2ms/sample - loss: 0.2082 - accuracy: 0.9318 - val_loss: 0.3649 - val_accuracy: 0.8750\n",
      "Epoch 81/100\n",
      "132/132 [==============================] - 0s 2ms/sample - loss: 0.1725 - accuracy: 0.9697 - val_loss: 0.2765 - val_accuracy: 0.8929\n",
      "Epoch 82/100\n",
      "132/132 [==============================] - 0s 2ms/sample - loss: 0.1684 - accuracy: 0.9242 - val_loss: 0.1747 - val_accuracy: 0.8929\n",
      "Epoch 83/100\n",
      "132/132 [==============================] - 0s 2ms/sample - loss: 0.2057 - accuracy: 0.9015 - val_loss: 0.2328 - val_accuracy: 0.8750\n",
      "Epoch 84/100\n",
      "132/132 [==============================] - 0s 2ms/sample - loss: 0.1479 - accuracy: 0.9470 - val_loss: 0.3047 - val_accuracy: 0.8929\n",
      "Epoch 85/100\n",
      "132/132 [==============================] - 0s 2ms/sample - loss: 0.1140 - accuracy: 0.9773 - val_loss: 0.3454 - val_accuracy: 0.9107\n",
      "Epoch 86/100\n",
      "132/132 [==============================] - 0s 2ms/sample - loss: 0.1183 - accuracy: 0.9697 - val_loss: 0.3588 - val_accuracy: 0.8929\n",
      "Epoch 87/100\n",
      "132/132 [==============================] - 0s 2ms/sample - loss: 0.1116 - accuracy: 0.9697 - val_loss: 0.2665 - val_accuracy: 0.9107\n",
      "Epoch 88/100\n",
      "132/132 [==============================] - 0s 2ms/sample - loss: 0.1137 - accuracy: 0.9621 - val_loss: 0.1967 - val_accuracy: 0.8929\n",
      "Epoch 89/100\n",
      "132/132 [==============================] - 0s 2ms/sample - loss: 0.1337 - accuracy: 0.9545 - val_loss: 0.2104 - val_accuracy: 0.9107\n",
      "Epoch 90/100\n",
      "132/132 [==============================] - 0s 2ms/sample - loss: 0.1106 - accuracy: 0.9697 - val_loss: 0.2863 - val_accuracy: 0.8929\n",
      "Epoch 91/100\n",
      "132/132 [==============================] - 0s 2ms/sample - loss: 0.1685 - accuracy: 0.9545 - val_loss: 0.2973 - val_accuracy: 0.8929\n",
      "Epoch 92/100\n",
      "132/132 [==============================] - 0s 2ms/sample - loss: 0.2720 - accuracy: 0.9470 - val_loss: 0.1947 - val_accuracy: 0.8929\n",
      "Epoch 93/100\n",
      "132/132 [==============================] - 0s 2ms/sample - loss: 0.2890 - accuracy: 0.9167 - val_loss: 0.2693 - val_accuracy: 0.9107\n",
      "Epoch 94/100\n",
      "132/132 [==============================] - 0s 2ms/sample - loss: 0.1720 - accuracy: 0.9470 - val_loss: 0.2662 - val_accuracy: 0.8929\n",
      "Epoch 95/100\n",
      "132/132 [==============================] - 0s 2ms/sample - loss: 0.1857 - accuracy: 0.9545 - val_loss: 0.3742 - val_accuracy: 0.8750\n",
      "Epoch 96/100\n",
      "132/132 [==============================] - 0s 2ms/sample - loss: 0.1555 - accuracy: 0.9621 - val_loss: 0.3229 - val_accuracy: 0.9107\n",
      "Epoch 97/100\n",
      "132/132 [==============================] - 0s 2ms/sample - loss: 0.1388 - accuracy: 0.9621 - val_loss: 0.2607 - val_accuracy: 0.8929\n",
      "Epoch 98/100\n",
      "132/132 [==============================] - 0s 2ms/sample - loss: 0.1391 - accuracy: 0.9545 - val_loss: 0.2429 - val_accuracy: 0.9107\n",
      "Epoch 99/100\n",
      "132/132 [==============================] - 0s 2ms/sample - loss: 0.0994 - accuracy: 0.9773 - val_loss: 0.2097 - val_accuracy: 0.9107\n",
      "Epoch 100/100\n",
      "132/132 [==============================] - 0s 2ms/sample - loss: 0.0912 - accuracy: 0.9773 - val_loss: 0.2118 - val_accuracy: 0.9286\n"
     ]
    }
   ],
   "source": [
    "history = emoji_model.fit(\n",
    "    train_x, \n",
    "    train_y, \n",
    "    epochs = 100,  \n",
    "    shuffle=True,\n",
    "    validation_data=[test_x, test_y]\n",
    ")"
   ]
  },
  {
   "cell_type": "code",
   "execution_count": 14,
   "metadata": {},
   "outputs": [
    {
     "data": {
      "image/png": "[encoded data removed]",
      "text/plain": [
       "<Figure size 432x288 with 1 Axes>"
      ]
     },
     "metadata": {
      "image/png": {
       "height": 248,
       "width": 372
      },
      "needs_background": "light"
     },
     "output_type": "display_data"
    }
   ],
   "source": [
    "utils.plot_history(history, ['loss', 'val_loss'])"
   ]
  },
  {
   "cell_type": "code",
   "execution_count": 19,
   "metadata": {},
   "outputs": [
    {
     "name": "stdout",
     "output_type": "stream",
     "text": [
      "132/132 [==============================] - 0s 359us/sample - loss: 0.0293 - accuracy: 0.9924\n",
      "56/56 [==============================] - 0s 342us/sample - loss: 0.2118 - accuracy: 0.9286\n"
     ]
    },
    {
     "data": {
      "text/plain": [
       "[0.21180450277669088, 0.9285714]"
      ]
     },
     "execution_count": 19,
     "metadata": {},
     "output_type": "execute_result"
    }
   ],
   "source": [
    "emoji_model.evaluate(train_x, train_y)\n",
    "emoji_model.evaluate(test_x, test_y)"
   ]
  },
  {
   "cell_type": "markdown",
   "metadata": {},
   "source": [
    "### Sava and Load Models"
   ]
  },
  {
   "cell_type": "code",
   "execution_count": 20,
   "metadata": {},
   "outputs": [],
   "source": [
    "# import\n",
    "import h5py"
   ]
  },
  {
   "cell_type": "markdown",
   "metadata": {},
   "source": [
    "Two parts need to be saved inorder to use the model in prod:\n",
    "\n",
    "1. Neural Network Structure\n",
    "2. Trained Weights (Matrix)\n",
    "\n",
    "We will save them separately. This makes it easy to manage multiple versions of weights and you can always choose which version to go for production."
   ]
  },
  {
   "cell_type": "code",
   "execution_count": 21,
   "metadata": {},
   "outputs": [],
   "source": [
    "import os\n",
    "\n",
    "model_root = 'resources/emoji_model'\n",
    "os.makedirs(model_root, exist_ok=True)"
   ]
  },
  {
   "cell_type": "code",
   "execution_count": 22,
   "metadata": {},
   "outputs": [],
   "source": [
    "# Save model structure as json\n",
    "with open(os.path.join(model_root, \"network.json\"), \"w\") as fp:\n",
    "    fp.write(emoji_model.to_json())\n",
    "\n",
    "# Save model weights\n",
    "emoji_model.save_weights(os.path.join(model_root, \"weights.h5\"))"
   ]
  },
  {
   "cell_type": "markdown",
   "metadata": {},
   "source": [
    "Download and load a pretrained model "
   ]
  },
  {
   "cell_type": "code",
   "execution_count": 23,
   "metadata": {},
   "outputs": [
    {
     "name": "stdout",
     "output_type": "stream",
     "text": [
      "start downloading...\n",
      "start extracting compressed files...\n",
      "data files are now available at resources/emoji_model_best\n"
     ]
    }
   ],
   "source": [
    "network_path, weights_path = utils.download_best_emoji_model()"
   ]
  },
  {
   "cell_type": "code",
   "execution_count": 24,
   "metadata": {},
   "outputs": [],
   "source": [
    "from tensorflow.keras.models import model_from_json\n",
    "\n",
    "# Load model structure\n",
    "with open(network_path, \"r\") as fp:\n",
    "    emoji_model_best = model_from_json(fp.read())\n",
    "\n",
    "# Load model weights\n",
    "emoji_model_best.load_weights(weights_path)"
   ]
  },
  {
   "cell_type": "code",
   "execution_count": 25,
   "metadata": {},
   "outputs": [],
   "source": [
    "emoji_model_best.compile(\n",
    "    loss='binary_crossentropy', \n",
    "    optimizer='adam', \n",
    "    metrics=['accuracy'])"
   ]
  },
  {
   "cell_type": "code",
   "execution_count": 26,
   "metadata": {},
   "outputs": [
    {
     "name": "stdout",
     "output_type": "stream",
     "text": [
      "132/132 [==============================] - 1s 7ms/sample - loss: 1.6881e-04 - accuracy: 1.0000\n",
      "56/56 [==============================] - 0s 346us/sample - loss: 0.2815 - accuracy: 0.9286\n"
     ]
    },
    {
     "data": {
      "text/plain": [
       "[0.2815099443708147, 0.9285714]"
      ]
     },
     "execution_count": 26,
     "metadata": {},
     "output_type": "execute_result"
    }
   ],
   "source": [
    "emoji_model_best.evaluate(train_x, train_y)\n",
    "emoji_model_best.evaluate(test_x, test_y)"
   ]
  },
  {
   "cell_type": "code",
   "execution_count": 27,
   "metadata": {},
   "outputs": [],
   "source": [
    "def predict(text):\n",
    "    x = utils.sentences_to_indices(\n",
    "        np.array([text]), \n",
    "        word_to_index, \n",
    "        maxlen)\n",
    "    \n",
    "    probs = emoji_model_best.predict(x)\n",
    "    pred = np.argmax(probs)\n",
    "    \n",
    "    print(text, utils.label_to_emoji(pred))"
   ]
  },
  {
   "cell_type": "code",
   "execution_count": 31,
   "metadata": {},
   "outputs": [
    {
     "name": "stdout",
     "output_type": "stream",
     "text": [
      "i am not feeling happy 😞\n"
     ]
    }
   ],
   "source": [
    "predict('i am not feeling happy')"
   ]
  },
  {
   "cell_type": "code",
   "execution_count": 33,
   "metadata": {},
   "outputs": [
    {
     "name": "stdout",
     "output_type": "stream",
     "text": [
      "this is quite amazing 😄\n"
     ]
    }
   ],
   "source": [
    "predict('this is quite amazing')"
   ]
  },
  {
   "cell_type": "code",
   "execution_count": null,
   "metadata": {},
   "outputs": [],
   "source": []
  }
 ],
 "metadata": {
  "kernelspec": {
   "display_name": "Python 3",
   "language": "python",
   "name": "python3"
  },
  "language_info": {
   "codemirror_mode": {
    "name": "ipython",
    "version": 3
   },
   "file_extension": ".py",
   "mimetype": "text/x-python",
   "name": "python",
   "nbconvert_exporter": "python",
   "pygments_lexer": "ipython3",
   "version": "3.7.6"
  }
 },
 "nbformat": 4,
 "nbformat_minor": 2
}
