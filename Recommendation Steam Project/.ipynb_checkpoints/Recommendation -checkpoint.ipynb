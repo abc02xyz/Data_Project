{
 "cells": [
  {
   "cell_type": "markdown",
   "metadata": {},
   "source": [
    "# Overview"
   ]
  },
  {
   "cell_type": "markdown",
   "metadata": {},
   "source": [
    "## Recommendation System"
   ]
  },
  {
   "cell_type": "code",
   "execution_count": null,
   "metadata": {},
   "outputs": [],
   "source": [
    "import pandas as pd"
   ]
  },
  {
   "cell_type": "code",
   "execution_count": 23,
   "metadata": {},
   "outputs": [],
   "source": [
    "def show_work_status(singleCount, totalCount, currentCount=0):\n",
    "    currentCount += singleCount\n",
    "    percentage = 100.0 * currentCount / totalCount\n",
    "    status =  '>' * int(percentage)  + ' ' * (100 - int(percentage))\n",
    "    sys.stdout.write('\\r[{0}] {1:.2f}% '.format(status, percentage))\n",
    "    sys.stdout.flush()\n",
    "    if percentage >= 100:\n",
    "        print('\\n')\n",
    "\n",
    "\n",
    "def split_list(lst_long,n):\n",
    "    lst_splitted = []\n",
    "    if len(lst_long) % n == 0:\n",
    "        totalBatches = len(lst_long) / n\n",
    "    else:\n",
    "        totalBatches = len(lst_long) / n + 1\n",
    "    for i in range(int(totalBatches)):\n",
    "        lst_short = lst_long[i*n:(i+1)*n]\n",
    "        lst_splitted.append(lst_short)\n",
    "    return lst_splitted"
   ]
  },
  {
   "cell_type": "code",
   "execution_count": 1,
   "metadata": {},
   "outputs": [],
   "source": [
    "import pandas as pd\n",
    "import numpy as np\n",
    "import matplotlib.pyplot as plt\n",
    "\n",
    "plt.style.use('ggplot')\n",
    "\n",
    "import seaborn as sns\n",
    "import implicit\n",
    "import scipy.sparse as sparse\n",
    "from sklearn.model_selection import ParameterGrid\n",
    "import os\n",
    "import time\n",
    "from sqlalchemy import create_engine, types\n",
    "\n",
    "#Recommended for implicit\n",
    "os.environ[\"MKL_NUM_THREADS\"] = \"1\""
   ]
  },
  {
   "cell_type": "code",
   "execution_count": 2,
   "metadata": {},
   "outputs": [],
   "source": [
    "import requests, json, os, sys, time, re, math\n",
    "from bs4 import BeautifulSoup\n",
    "from datetime import datetime\n",
    "\n",
    "from sqlalchemy import create_engine, types\n",
    "import pandas as pd\n",
    "import numpy as np\n",
    "import matplotlib.pyplot as plt\n",
    "\n",
    "from sklearn.feature_extraction.text import TfidfVectorizer\n",
    "from sklearn.metrics.pairwise import linear_kernel,cosine_similarity\n",
    "\n",
    "from pyspark.ml.recommendation import ALS\n",
    "from pyspark import SparkContext\n",
    "from pyspark.sql import SparkSession"
   ]
  },
  {
   "cell_type": "markdown",
   "metadata": {},
   "source": [
    "## ETL pipeline"
   ]
  },
  {
   "cell_type": "code",
   "execution_count": 3,
   "metadata": {},
   "outputs": [],
   "source": [
    "class SteamObject(object):\n",
    "    \n",
    "    def config_database_MySQLConnect(self, username,password,host,database):\n",
    "        engine = create_engine('mysql+pymysql://{}:{}@{}/{}?charset=utf8mb4'.format(username, password, host, database))\n",
    "        return engine\n",
    "        \n",
    "    def MySQL_query(self, query):\n",
    "        df = pd.read_sql_query(query,engine)\n",
    "        return df\n",
    "    \n",
    "    "
   ]
  },
  {
   "cell_type": "code",
   "execution_count": 4,
   "metadata": {},
   "outputs": [],
   "source": [
    "Steam = SteamObject()"
   ]
  },
  {
   "cell_type": "code",
   "execution_count": 5,
   "metadata": {},
   "outputs": [],
   "source": [
    "# config database connection\n",
    "username = 'root'\n",
    "password = 'Brady811215'\n",
    "host = '127.0.0.1'\n",
    "database = 'game_recommendation'\n",
    "engine = Steam.config_database_MySQLConnect(username,password,host,database)\n",
    "jdbc_url = 'jdbc:mysql://{}/{}'.format(host, database)\n",
    "\n"
   ]
  },
  {
   "cell_type": "code",
   "execution_count": 6,
   "metadata": {},
   "outputs": [
    {
     "data": {
      "text/html": [
       "<div>\n",
       "<style scoped>\n",
       "    .dataframe tbody tr th:only-of-type {\n",
       "        vertical-align: middle;\n",
       "    }\n",
       "\n",
       "    .dataframe tbody tr th {\n",
       "        vertical-align: top;\n",
       "    }\n",
       "\n",
       "    .dataframe thead th {\n",
       "        text-align: right;\n",
       "    }\n",
       "</style>\n",
       "<table border=\"1\" class=\"dataframe\">\n",
       "  <thead>\n",
       "    <tr style=\"text-align: right;\">\n",
       "      <th></th>\n",
       "      <th>app_id</th>\n",
       "      <th>short_description</th>\n",
       "    </tr>\n",
       "  </thead>\n",
       "  <tbody>\n",
       "    <tr>\n",
       "      <td>0</td>\n",
       "      <td>1006720</td>\n",
       "      <td>PUZZLE: BIRDS - a logical game in which your t...</td>\n",
       "    </tr>\n",
       "    <tr>\n",
       "      <td>1</td>\n",
       "      <td>1006880</td>\n",
       "      <td>Casual colorful physical puzzle with sweets, j...</td>\n",
       "    </tr>\n",
       "    <tr>\n",
       "      <td>2</td>\n",
       "      <td>1005900</td>\n",
       "      <td>This is an FPS action game, in which you will ...</td>\n",
       "    </tr>\n",
       "    <tr>\n",
       "      <td>3</td>\n",
       "      <td>1005910</td>\n",
       "      <td>TAKANARIA is a very simple game created with P...</td>\n",
       "    </tr>\n",
       "    <tr>\n",
       "      <td>4</td>\n",
       "      <td>1006170</td>\n",
       "      <td>This game is a purely placed game. The player ...</td>\n",
       "    </tr>\n",
       "  </tbody>\n",
       "</table>\n",
       "</div>"
      ],
      "text/plain": [
       "    app_id                                  short_description\n",
       "0  1006720  PUZZLE: BIRDS - a logical game in which your t...\n",
       "1  1006880  Casual colorful physical puzzle with sweets, j...\n",
       "2  1005900  This is an FPS action game, in which you will ...\n",
       "3  1005910  TAKANARIA is a very simple game created with P...\n",
       "4  1006170  This game is a purely placed game. The player ..."
      ]
     },
     "execution_count": 6,
     "metadata": {},
     "output_type": "execute_result"
    }
   ],
   "source": [
    "query ='''SELECT app_id, short_description FROM game_steam_app WHERE short_description IS NOT NULL AND type = \"game\" AND release_date <= CURDATE() AND initial_price IS NOT NULL'''\n",
    "df_game_description = Steam.MySQL_query(query)\n",
    "df_game_description.head()"
   ]
  },
  {
   "cell_type": "code",
   "execution_count": 25,
   "metadata": {},
   "outputs": [
    {
     "data": {
      "text/plain": [
       "(27591, 2)"
      ]
     },
     "execution_count": 25,
     "metadata": {},
     "output_type": "execute_result"
    }
   ],
   "source": [
    "df_game_description.shape"
   ]
  },
  {
   "cell_type": "code",
   "execution_count": 7,
   "metadata": {},
   "outputs": [
    {
     "data": {
      "text/html": [
       "<div>\n",
       "<style scoped>\n",
       "    .dataframe tbody tr th:only-of-type {\n",
       "        vertical-align: middle;\n",
       "    }\n",
       "\n",
       "    .dataframe tbody tr th {\n",
       "        vertical-align: top;\n",
       "    }\n",
       "\n",
       "    .dataframe thead th {\n",
       "        text-align: right;\n",
       "    }\n",
       "</style>\n",
       "<table border=\"1\" class=\"dataframe\">\n",
       "  <thead>\n",
       "    <tr style=\"text-align: right;\">\n",
       "      <th></th>\n",
       "      <th>app_id</th>\n",
       "      <th>game title</th>\n",
       "    </tr>\n",
       "  </thead>\n",
       "  <tbody>\n",
       "    <tr>\n",
       "      <td>0</td>\n",
       "      <td>1006720</td>\n",
       "      <td>PUZZLE: BIRDS</td>\n",
       "    </tr>\n",
       "    <tr>\n",
       "      <td>1</td>\n",
       "      <td>1006880</td>\n",
       "      <td>Chocolate makes you happy: Valentine's Day</td>\n",
       "    </tr>\n",
       "    <tr>\n",
       "      <td>2</td>\n",
       "      <td>1005900</td>\n",
       "      <td>Christmas Time 2019</td>\n",
       "    </tr>\n",
       "    <tr>\n",
       "      <td>3</td>\n",
       "      <td>1005910</td>\n",
       "      <td>TAKANARIA</td>\n",
       "    </tr>\n",
       "    <tr>\n",
       "      <td>4</td>\n",
       "      <td>1006170</td>\n",
       "      <td>消灭魔王军 Destroy the demon army</td>\n",
       "    </tr>\n",
       "  </tbody>\n",
       "</table>\n",
       "</div>"
      ],
      "text/plain": [
       "    app_id                                  game title\n",
       "0  1006720                               PUZZLE: BIRDS\n",
       "1  1006880  Chocolate makes you happy: Valentine's Day\n",
       "2  1005900                         Christmas Time 2019\n",
       "3  1005910                                   TAKANARIA\n",
       "4  1006170                消灭魔王军 Destroy the demon army"
      ]
     },
     "execution_count": 7,
     "metadata": {},
     "output_type": "execute_result"
    }
   ],
   "source": [
    "query1 = '''SELECT app_id, name FROM game_steam_app WHERE short_description IS NOT NULL AND type = \"game\" AND release_date <= CURDATE() AND initial_price IS NOT NULL'''\n",
    "df_game_info = Steam.MySQL_query(query1)\n",
    "df_game_info = df_game_info.rename(columns = {'name': 'game title'})\n",
    "df_game_info.head()"
   ]
  },
  {
   "cell_type": "code",
   "execution_count": null,
   "metadata": {},
   "outputs": [],
   "source": []
  },
  {
   "cell_type": "code",
   "execution_count": 31,
   "metadata": {},
   "outputs": [
    {
     "data": {
      "text/html": [
       "<div>\n",
       "<style scoped>\n",
       "    .dataframe tbody tr th:only-of-type {\n",
       "        vertical-align: middle;\n",
       "    }\n",
       "\n",
       "    .dataframe tbody tr th {\n",
       "        vertical-align: top;\n",
       "    }\n",
       "\n",
       "    .dataframe thead th {\n",
       "        text-align: right;\n",
       "    }\n",
       "</style>\n",
       "<table border=\"1\" class=\"dataframe\">\n",
       "  <thead>\n",
       "    <tr style=\"text-align: right;\">\n",
       "      <th></th>\n",
       "      <th>user_id</th>\n",
       "      <th>app_id</th>\n",
       "      <th>playtime_forever</th>\n",
       "    </tr>\n",
       "  </thead>\n",
       "  <tbody>\n",
       "    <tr>\n",
       "      <td>0</td>\n",
       "      <td>76561198158086086</td>\n",
       "      <td>4000</td>\n",
       "      <td>370</td>\n",
       "    </tr>\n",
       "    <tr>\n",
       "      <td>1</td>\n",
       "      <td>76561198158086086</td>\n",
       "      <td>110800</td>\n",
       "      <td>9</td>\n",
       "    </tr>\n",
       "    <tr>\n",
       "      <td>2</td>\n",
       "      <td>76561198158086086</td>\n",
       "      <td>250320</td>\n",
       "      <td>507</td>\n",
       "    </tr>\n",
       "    <tr>\n",
       "      <td>3</td>\n",
       "      <td>76561198158086086</td>\n",
       "      <td>296470</td>\n",
       "      <td>78</td>\n",
       "    </tr>\n",
       "    <tr>\n",
       "      <td>4</td>\n",
       "      <td>76561198158086086</td>\n",
       "      <td>301520</td>\n",
       "      <td>20</td>\n",
       "    </tr>\n",
       "  </tbody>\n",
       "</table>\n",
       "</div>"
      ],
      "text/plain": [
       "             user_id  app_id  playtime_forever\n",
       "0  76561198158086086    4000               370\n",
       "1  76561198158086086  110800                 9\n",
       "2  76561198158086086  250320               507\n",
       "3  76561198158086086  296470                78\n",
       "4  76561198158086086  301520                20"
      ]
     },
     "execution_count": 31,
     "metadata": {},
     "output_type": "execute_result"
    }
   ],
   "source": [
    "query2 = '''SELECT user_id,app_id, playtime_forever FROM game_steam_user_inventory where playtime_forever <> 0'''\n",
    "df_game_time = Steam.MySQL_query(query2)\n",
    "df_game_time.head()"
   ]
  },
  {
   "cell_type": "code",
   "execution_count": 30,
   "metadata": {},
   "outputs": [
    {
     "data": {
      "text/plain": [
       "(266133, 3)"
      ]
     },
     "execution_count": 30,
     "metadata": {},
     "output_type": "execute_result"
    }
   ],
   "source": [
    "df_game_time.shape"
   ]
  },
  {
   "cell_type": "markdown",
   "metadata": {},
   "source": [
    "### Feature Extraction"
   ]
  },
  {
   "cell_type": "code",
   "execution_count": 47,
   "metadata": {},
   "outputs": [
    {
     "name": "stdout",
     "output_type": "stream",
     "text": [
      "Maxium spending time on games220\n",
      "user_id             76561198250267062\n",
      "app_id                            220\n",
      "playtime_forever                 9810\n",
      "dtype: int64\n",
      "Minimum spending time on games220\n",
      "user_id             76561197960422789\n",
      "app_id                            220\n",
      "playtime_forever                    1\n",
      "dtype: int64\n",
      "Maxium spending time on games10\n",
      "user_id             76561198258639801\n",
      "app_id                             10\n",
      "playtime_forever               172896\n",
      "dtype: int64\n",
      "Minimum spending time on games10\n",
      "user_id             76561197960355015\n",
      "app_id                             10\n",
      "playtime_forever                    1\n",
      "dtype: int64\n"
     ]
    }
   ],
   "source": [
    "print('Maxium spending time on games220')\n",
    "print(df_game_time.loc[df_game_time['app_id']==220].max())\n",
    "print('Minimum spending time on games220')\n",
    "print(df_game_time.loc[df_game_time['app_id']==220].min())\n",
    "\n",
    "print('Maxium spending time on games10')\n",
    "print(df_game_time.loc[df_game_time['app_id']==10].max())\n",
    "\n",
    "print('Minimum spending time on games10')\n",
    "print(df_game_time.loc[df_game_time['app_id']==10].min())"
   ]
  },
  {
   "cell_type": "code",
   "execution_count": 42,
   "metadata": {},
   "outputs": [
    {
     "data": {
      "text/plain": [
       "(0, 2500)"
      ]
     },
     "execution_count": 42,
     "metadata": {},
     "output_type": "execute_result"
    },
    {
     "data": {
      "image/png": "[encoded data removed]",
      "text/plain": [
       "<Figure size 432x288 with 1 Axes>"
      ]
     },
     "metadata": {
      "needs_background": "light"
     },
     "output_type": "display_data"
    }
   ],
   "source": [
    "playtimeforapp220 = df_game_time.loc[df_game_time['app_id']==220]['playtime_forever']\n",
    "count, binedges = np.histogram(playtimeforapp220, bins= 1000)\n",
    "plt.plot(binedges[1:],count)\n",
    "plt.xlim(0,2500)"
   ]
  },
  {
   "cell_type": "code",
   "execution_count": 63,
   "metadata": {},
   "outputs": [
    {
     "data": {
      "image/png": "[encoded data removed]",
      "text/plain": [
       "<Figure size 720x720 with 1 Axes>"
      ]
     },
     "metadata": {
      "needs_background": "light"
     },
     "output_type": "display_data"
    },
    {
     "data": {
      "text/plain": [
       "<Figure size 432x288 with 0 Axes>"
      ]
     },
     "metadata": {},
     "output_type": "display_data"
    }
   ],
   "source": [
    "ecdf = np.cumsum(count)\n",
    "plt.figure(figsize=(10,10))\n",
    "plt.plot(binedges[1:],ecdf/ecdf[-1])\n",
    "plt.xlim((1,10000))\n",
    "plt.show()\n",
    "plt.savefig('cdf.pdf')"
   ]
  },
  {
   "cell_type": "markdown",
   "metadata": {},
   "source": [
    "###  Feature Engineering\n",
    "It is not surprising that the variation of playing time among different games is obvious because of the diversity of games content and genres. We transform the playtime on the same scale by using cumulative distribution function of playtime. For each game, we calculate the cumulative distribution function of playtime and  transform it to 0-1 scale by evaluating it at that point. "
   ]
  },
  {
   "cell_type": "code",
   "execution_count": 12,
   "metadata": {},
   "outputs": [],
   "source": [
    "class cdfTransformer(object):\n",
    "    \n",
    "    transformerSeries = {}\n",
    "    \n",
    "    def fitTransform(self,data):\n",
    "        grouped1 = data.groupby([\"app_id\",\"playtime_forever\"]).count()\n",
    "        grouped2 = grouped1.groupby(level=[0]).cumsum()\n",
    "        grouped3 = grouped2.groupby(level = [0]).max()\n",
    "        withcdf = grouped2/grouped3\n",
    "        self.transformerSeries = pd.Series(withcdf['user_id'],index=withcdf.index)\n",
    "        withcdf_df = withcdf.reset_index(level=[0,1])\n",
    "        withcdf_df.rename(columns={\"user_id\":\"playtime_cdf\"}, inplace=True)\n",
    "        df = pd.merge(withcdf_df,df_game_time, on=['app_id','playtime_forever'],how='inner')\n",
    "        df.drop('playtime_forever',axis =1, inplace =True)\n",
    "        df = df[['user_id','app_id','playtime_cdf']]\n",
    "        return df"
   ]
  },
  {
   "cell_type": "code",
   "execution_count": 50,
   "metadata": {},
   "outputs": [
    {
     "data": {
      "text/html": [
       "<div>\n",
       "<style scoped>\n",
       "    .dataframe tbody tr th:only-of-type {\n",
       "        vertical-align: middle;\n",
       "    }\n",
       "\n",
       "    .dataframe tbody tr th {\n",
       "        vertical-align: top;\n",
       "    }\n",
       "\n",
       "    .dataframe thead th {\n",
       "        text-align: right;\n",
       "    }\n",
       "</style>\n",
       "<table border=\"1\" class=\"dataframe\">\n",
       "  <thead>\n",
       "    <tr style=\"text-align: right;\">\n",
       "      <th></th>\n",
       "      <th>user_id</th>\n",
       "      <th>app_id</th>\n",
       "      <th>playtime_cdf</th>\n",
       "    </tr>\n",
       "  </thead>\n",
       "  <tbody>\n",
       "    <tr>\n",
       "      <td>0</td>\n",
       "      <td>76561198069986134</td>\n",
       "      <td>10</td>\n",
       "      <td>0.054187</td>\n",
       "    </tr>\n",
       "    <tr>\n",
       "      <td>1</td>\n",
       "      <td>76561198062431903</td>\n",
       "      <td>10</td>\n",
       "      <td>0.054187</td>\n",
       "    </tr>\n",
       "    <tr>\n",
       "      <td>2</td>\n",
       "      <td>76561198218988347</td>\n",
       "      <td>10</td>\n",
       "      <td>0.054187</td>\n",
       "    </tr>\n",
       "    <tr>\n",
       "      <td>3</td>\n",
       "      <td>76561198060984502</td>\n",
       "      <td>10</td>\n",
       "      <td>0.054187</td>\n",
       "    </tr>\n",
       "    <tr>\n",
       "      <td>4</td>\n",
       "      <td>76561198056211205</td>\n",
       "      <td>10</td>\n",
       "      <td>0.054187</td>\n",
       "    </tr>\n",
       "  </tbody>\n",
       "</table>\n",
       "</div>"
      ],
      "text/plain": [
       "             user_id  app_id  playtime_cdf\n",
       "0  76561198069986134      10      0.054187\n",
       "1  76561198062431903      10      0.054187\n",
       "2  76561198218988347      10      0.054187\n",
       "3  76561198060984502      10      0.054187\n",
       "4  76561198056211205      10      0.054187"
      ]
     },
     "execution_count": 50,
     "metadata": {},
     "output_type": "execute_result"
    }
   ],
   "source": [
    "df_ratings = cdfTransformer().fitTransform(df_game_time)\n",
    "df_ratings.head()"
   ]
  },
  {
   "cell_type": "code",
   "execution_count": null,
   "metadata": {},
   "outputs": [],
   "source": [
    "## combine title with dataframe"
   ]
  },
  {
   "cell_type": "code",
   "execution_count": 14,
   "metadata": {},
   "outputs": [
    {
     "data": {
      "text/html": [
       "<div>\n",
       "<style scoped>\n",
       "    .dataframe tbody tr th:only-of-type {\n",
       "        vertical-align: middle;\n",
       "    }\n",
       "\n",
       "    .dataframe tbody tr th {\n",
       "        vertical-align: top;\n",
       "    }\n",
       "\n",
       "    .dataframe thead th {\n",
       "        text-align: right;\n",
       "    }\n",
       "</style>\n",
       "<table border=\"1\" class=\"dataframe\">\n",
       "  <thead>\n",
       "    <tr style=\"text-align: right;\">\n",
       "      <th></th>\n",
       "      <th>user_id</th>\n",
       "      <th>app_id</th>\n",
       "      <th>playtime_cdf</th>\n",
       "      <th>game title</th>\n",
       "    </tr>\n",
       "  </thead>\n",
       "  <tbody>\n",
       "    <tr>\n",
       "      <td>0</td>\n",
       "      <td>76561198069986134</td>\n",
       "      <td>10</td>\n",
       "      <td>0.054187</td>\n",
       "      <td>Counter-Strike</td>\n",
       "    </tr>\n",
       "    <tr>\n",
       "      <td>1</td>\n",
       "      <td>76561198062431903</td>\n",
       "      <td>10</td>\n",
       "      <td>0.054187</td>\n",
       "      <td>Counter-Strike</td>\n",
       "    </tr>\n",
       "    <tr>\n",
       "      <td>2</td>\n",
       "      <td>76561198218988347</td>\n",
       "      <td>10</td>\n",
       "      <td>0.054187</td>\n",
       "      <td>Counter-Strike</td>\n",
       "    </tr>\n",
       "    <tr>\n",
       "      <td>3</td>\n",
       "      <td>76561198060984502</td>\n",
       "      <td>10</td>\n",
       "      <td>0.054187</td>\n",
       "      <td>Counter-Strike</td>\n",
       "    </tr>\n",
       "    <tr>\n",
       "      <td>4</td>\n",
       "      <td>76561198056211205</td>\n",
       "      <td>10</td>\n",
       "      <td>0.054187</td>\n",
       "      <td>Counter-Strike</td>\n",
       "    </tr>\n",
       "  </tbody>\n",
       "</table>\n",
       "</div>"
      ],
      "text/plain": [
       "             user_id  app_id  playtime_cdf      game title\n",
       "0  76561198069986134      10      0.054187  Counter-Strike\n",
       "1  76561198062431903      10      0.054187  Counter-Strike\n",
       "2  76561198218988347      10      0.054187  Counter-Strike\n",
       "3  76561198060984502      10      0.054187  Counter-Strike\n",
       "4  76561198056211205      10      0.054187  Counter-Strike"
      ]
     },
     "execution_count": 14,
     "metadata": {},
     "output_type": "execute_result"
    }
   ],
   "source": [
    "df_ratings = pd.merge(df_ratings,df_game_info,on='app_id')\n",
    "df_ratings.head()"
   ]
  },
  {
   "cell_type": "code",
   "execution_count": 16,
   "metadata": {},
   "outputs": [
    {
     "data": {
      "text/html": [
       "<div>\n",
       "<style scoped>\n",
       "    .dataframe tbody tr th:only-of-type {\n",
       "        vertical-align: middle;\n",
       "    }\n",
       "\n",
       "    .dataframe tbody tr th {\n",
       "        vertical-align: top;\n",
       "    }\n",
       "\n",
       "    .dataframe thead th {\n",
       "        text-align: right;\n",
       "    }\n",
       "</style>\n",
       "<table border=\"1\" class=\"dataframe\">\n",
       "  <thead>\n",
       "    <tr style=\"text-align: right;\">\n",
       "      <th></th>\n",
       "      <th>count</th>\n",
       "    </tr>\n",
       "    <tr>\n",
       "      <th>app_id</th>\n",
       "      <th></th>\n",
       "    </tr>\n",
       "  </thead>\n",
       "  <tbody>\n",
       "    <tr>\n",
       "      <td>730</td>\n",
       "      <td>3456</td>\n",
       "    </tr>\n",
       "    <tr>\n",
       "      <td>4000</td>\n",
       "      <td>3247</td>\n",
       "    </tr>\n",
       "    <tr>\n",
       "      <td>352460</td>\n",
       "      <td>3155</td>\n",
       "    </tr>\n",
       "    <tr>\n",
       "      <td>304930</td>\n",
       "      <td>2821</td>\n",
       "    </tr>\n",
       "    <tr>\n",
       "      <td>550</td>\n",
       "      <td>2424</td>\n",
       "    </tr>\n",
       "  </tbody>\n",
       "</table>\n",
       "</div>"
      ],
      "text/plain": [
       "        count\n",
       "app_id       \n",
       "730      3456\n",
       "4000     3247\n",
       "352460   3155\n",
       "304930   2821\n",
       "550      2424"
      ]
     },
     "execution_count": 16,
     "metadata": {},
     "output_type": "execute_result"
    }
   ],
   "source": [
    "df_games_cnt = pd.DataFrame(df_ratings.groupby('app_id').size(),columns=['count'])\n",
    "df_games_cnt.sort_values('count',ascending=False).head()"
   ]
  },
  {
   "cell_type": "code",
   "execution_count": 54,
   "metadata": {},
   "outputs": [
    {
     "data": {
      "image/png": "[encoded data removed]",
      "text/plain": [
       "<Figure size 864x576 with 1 Axes>"
      ]
     },
     "metadata": {
      "needs_background": "light"
     },
     "output_type": "display_data"
    }
   ],
   "source": [
    "ax = df_games_cnt.sort_values('count',ascending=False).reset_index(drop=True)\\\n",
    ".plot(figsize=(12,8),\n",
    "      title='Frequency of playing games for all games',\n",
    "      fontsize=12\n",
    "     )\n",
    "ax.set_xlabel(\"item inex ordered by descending frequency\")\n",
    "ax.set_ylabel(\"counts of playing game\")\n",
    "plt.savefig('long_tail.pdf')"
   ]
  },
  {
   "cell_type": "markdown",
   "metadata": {},
   "source": [
    "The distribution of ratings among movies often satisfies a property in real-world settings, which is referred to as the long-tail property. According to this property, only a small fraction of the items are rated frequently. Such items are referred to as popular items. The vast majority of items are rated rarely. This results in a highly skewed distribution of the underlying ratings."
   ]
  },
  {
   "cell_type": "code",
   "execution_count": 19,
   "metadata": {},
   "outputs": [
    {
     "data": {
      "image/png": "[encoded data removed]",
      "text/plain": [
       "<Figure size 864x576 with 1 Axes>"
      ]
     },
     "metadata": {
      "needs_background": "light"
     },
     "output_type": "display_data"
    }
   ],
   "source": [
    "ax = df_games_cnt.sort_values('count',ascending=False).reset_index(drop=True)\\\n",
    ".plot(figsize=(12,8),\n",
    "      title='Frequency of playing games for all games',\n",
    "      fontsize=12,\n",
    "      logy = True\n",
    "     )\n",
    "ax.set_xlabel(\"appid\")\n",
    "ax.set_ylabel(\"counts of playing game(log scale)\")\n",
    "plt.savefig('logscale long tail')"
   ]
  },
  {
   "cell_type": "markdown",
   "metadata": {},
   "source": [
    "About less than 1000 out of 6500 games are played by more than 100 different users. However, about 2200 games are played by more than 10 different users. "
   ]
  },
  {
   "cell_type": "code",
   "execution_count": 20,
   "metadata": {},
   "outputs": [
    {
     "data": {
      "text/plain": [
       "1.00    3456.0\n",
       "0.95     183.2\n",
       "0.90      84.0\n",
       "0.85      48.0\n",
       "0.80      30.0\n",
       "0.75      21.0\n",
       "0.70      15.0\n",
       "0.65      11.0\n",
       "Name: count, dtype: float64"
      ]
     },
     "execution_count": 20,
     "metadata": {},
     "output_type": "execute_result"
    }
   ],
   "source": [
    "df_games_cnt['count'].quantile(np.arange(1,0.6,-0.05))"
   ]
  },
  {
   "cell_type": "markdown",
   "metadata": {},
   "source": [
    "## Content based Filtering"
   ]
  },
  {
   "cell_type": "code",
   "execution_count": 24,
   "metadata": {},
   "outputs": [
    {
     "name": "stdout",
     "output_type": "stream",
     "text": [
      "[>>>>>>>>>>>>>>>>>>>>>>>>>>>>>>>>>>>>>>>>>>>>>>>>>>>>>>>>>>>>>>>>>>>>>>>>>>>>>>>>>>>>>>>>>>>>>>>>>>>>] 100.00% \n",
      "\n"
     ]
    }
   ],
   "source": [
    "tfidf = TfidfVectorizer(strip_accents='unicode',stop_words='english').fit_transform(df_game_description.short_description.tolist())\n",
    "\n",
    "lst_app_id = df_game_description.app_id.tolist()\n",
    "dic_recomended = {}\n",
    "total_count = df_game_description.shape[0]\n",
    "current_count = 0\n",
    "for row_index in range(tfidf.shape[0]):\n",
    "    cosine_similarities = linear_kernel(tfidf[row_index:row_index+1], tfidf).flatten()\n",
    "    top_related_rows = cosine_similarities.argsort()[-2:-22:-1]\n",
    "    dic_recomended.update({lst_app_id[row_index]:[lst_app_id[i] for i in top_related_rows]})\n",
    "    show_work_status(1,total_count,current_count)\n",
    "    current_count+=1\n",
    "\n",
    "\n",
    "df_content_based_results = pd.DataFrame.from_dict(dic_recomended, 'index')\n",
    "df_content_based_results.index.name = 'app_id'\n",
    "df_content_based_results.reset_index(inplace=True)\n",
    "df_content_based_results.to_sql('recommended_games_content_based',engine,if_exists='replace', index = False)"
   ]
  },
  {
   "cell_type": "code",
   "execution_count": null,
   "metadata": {},
   "outputs": [],
   "source": []
  },
  {
   "cell_type": "markdown",
   "metadata": {},
   "source": [
    "## Item-based collaborative Filtering"
   ]
  },
  {
   "cell_type": "code",
   "execution_count": null,
   "metadata": {},
   "outputs": [],
   "source": [
    "\n",
    "# Model 2: item based\n",
    "def recommendation_item_based():\n",
    "    print('Item Based Model')\n",
    "    dic_purchase = {}\n",
    "    set_valid_app_id = set([i[0] for i in engine.execute('SELECT app_id FROM game_steam_app WHERE short_description IS NOT NULL AND type = \"game\"AND release_date <= CURDATE() AND initial_price IS NOT NULL').fetchall()])\n",
    "    for app_id, user_id in engine.execute('SELECT app_id, user_id FROM game_steam_user_inventory').fetchall():\n",
    "        if app_id in set_valid_app_id:\n",
    "            if user_id in dic_purchase:\n",
    "                dic_purchase[user_id].update({app_id : 1})\n",
    "            else:\n",
    "                dic_purchase[user_id] = {app_id : 1}\n",
    "\n",
    "    df_purchase = pd.DataFrame(dic_purchase).fillna(0)\n",
    "    purchase_matrix = df_purchase.values\n",
    "    lst_app_id = df_purchase.index\n",
    "\n",
    "    total_count = purchase_matrix.shape[0]\n",
    "    current_count = 0\n",
    "\n",
    "    dic_recomended_item_based = {}\n",
    "    for index in range(total_count):\n",
    "        cosine_similarities = linear_kernel(purchase_matrix[index:index+1], purchase_matrix).flatten()\n",
    "        lst_related_app = np.argsort(-cosine_similarities)[1:101]\n",
    "        dic_recomended_item_based.update({lst_app_id[index]:[lst_app_id[i] for i in lst_related_app]})\n",
    "        show_work_status(1,total_count,current_count)\n",
    "        current_count+=1\n",
    "\n",
    "\n",
    "    df_item_based_result = pd.DataFrame.from_dict(dic_recomended_item_based, 'index')\n",
    "    df_item_based_result.index.name = 'app_id'\n",
    "    df_item_based_result.reset_index(inplace=True)\n",
    "    df_item_based_result.to_sql('recommended_games_item_based', engine, if_exists='replace', chunksize = 1000, index = False)"
   ]
  },
  {
   "cell_type": "markdown",
   "metadata": {},
   "source": [
    "User ID and game ID is too messy and unorganized, so we rename userID and appID by order. "
   ]
  },
  {
   "cell_type": "code",
   "execution_count": 55,
   "metadata": {},
   "outputs": [],
   "source": [
    "def constructCodes(df) :\n",
    "    \"\"\"\n",
    "    Maps 'steamid' to categorical code 'sid'\n",
    "    Maps 'appid' to categorical code 'aid'\n",
    "    Returns :\n",
    "        1. Dataframe with columns 'sid', 'aid', 'playtime_forever'\n",
    "        2. Dictionary mapping 'steamid' to 'sid'\n",
    "        3. Dictionary mapping 'sid' to 'steamid'\n",
    "        4. Dictionary mapping 'appid' to 'aid'\n",
    "        5. Dictionary mapping 'aid' to 'appid'\n",
    "    \"\"\"\n",
    "    coded_df = df.copy(deep = True)\n",
    "    coded_df[\"user_id\"] = coded_df[\"user_id\"].astype(\"category\")\n",
    "    coded_df[\"app_id\"] = coded_df[\"app_id\"].astype(\"category\")\n",
    "    coded_df[\"uid\"] = coded_df[\"user_id\"].cat.codes\n",
    "    coded_df[\"aid\"] = coded_df[\"app_id\"].cat.codes\n",
    "    \n",
    "    uid_to_user_id = dict(enumerate(coded_df[\"user_id\"].cat.categories))\n",
    "    aid_to_app_id = dict(enumerate(coded_df[\"app_id\"].cat.categories))\n",
    "    user_id_to_uid = {v : k for k, v in uid_to_user_id.items()}\n",
    "    app_id_to_aid = {v : k for k, v in aid_to_app_id.items()}\n",
    "    \n",
    "    coded_df.drop([\"user_id\", \"app_id\"], axis = 1, inplace = True)\n",
    "    \n",
    "    return coded_df"
   ]
  },
  {
   "cell_type": "code",
   "execution_count": 60,
   "metadata": {},
   "outputs": [],
   "source": [
    "import pandas as pd\n",
    "from scipy.sparse import csr_matrix\n",
    "from sklearn.neighbors import NearestNeighbors\n",
    "# utils import\n"
   ]
  },
  {
   "cell_type": "markdown",
   "metadata": {},
   "source": [
    "For KNN (K-Nearest Neighbors, we hope the data is expressed by matrix where each row is represented by a game and each column is represented by a user. To reshape the dataframe, we pivot the datadrame to the wide format with games as rows and users as columns. Then we'll fill the missing observations with 0s since we're going to be performing linear algebra operations (calculating distances between vectors). Finally, we transform the values of the dataframe into a scipy sparse matrix for more efficient calculations."
   ]
  },
  {
   "cell_type": "code",
   "execution_count": 56,
   "metadata": {},
   "outputs": [],
   "source": [
    "df_rating = constructCodes(df_ratings)"
   ]
  },
  {
   "cell_type": "code",
   "execution_count": 57,
   "metadata": {},
   "outputs": [
    {
     "data": {
      "text/html": [
       "<div>\n",
       "<style scoped>\n",
       "    .dataframe tbody tr th:only-of-type {\n",
       "        vertical-align: middle;\n",
       "    }\n",
       "\n",
       "    .dataframe tbody tr th {\n",
       "        vertical-align: top;\n",
       "    }\n",
       "\n",
       "    .dataframe thead th {\n",
       "        text-align: right;\n",
       "    }\n",
       "</style>\n",
       "<table border=\"1\" class=\"dataframe\">\n",
       "  <thead>\n",
       "    <tr style=\"text-align: right;\">\n",
       "      <th></th>\n",
       "      <th>playtime_cdf</th>\n",
       "      <th>uid</th>\n",
       "      <th>aid</th>\n",
       "    </tr>\n",
       "  </thead>\n",
       "  <tbody>\n",
       "    <tr>\n",
       "      <td>0</td>\n",
       "      <td>0.054187</td>\n",
       "      <td>1516</td>\n",
       "      <td>0</td>\n",
       "    </tr>\n",
       "    <tr>\n",
       "      <td>1</td>\n",
       "      <td>0.054187</td>\n",
       "      <td>1313</td>\n",
       "      <td>0</td>\n",
       "    </tr>\n",
       "    <tr>\n",
       "      <td>2</td>\n",
       "      <td>0.054187</td>\n",
       "      <td>4154</td>\n",
       "      <td>0</td>\n",
       "    </tr>\n",
       "    <tr>\n",
       "      <td>3</td>\n",
       "      <td>0.054187</td>\n",
       "      <td>1279</td>\n",
       "      <td>0</td>\n",
       "    </tr>\n",
       "    <tr>\n",
       "      <td>4</td>\n",
       "      <td>0.054187</td>\n",
       "      <td>1138</td>\n",
       "      <td>0</td>\n",
       "    </tr>\n",
       "    <tr>\n",
       "      <td>...</td>\n",
       "      <td>...</td>\n",
       "      <td>...</td>\n",
       "      <td>...</td>\n",
       "    </tr>\n",
       "    <tr>\n",
       "      <td>266128</td>\n",
       "      <td>0.500000</td>\n",
       "      <td>2680</td>\n",
       "      <td>6489</td>\n",
       "    </tr>\n",
       "    <tr>\n",
       "      <td>266129</td>\n",
       "      <td>0.625000</td>\n",
       "      <td>3819</td>\n",
       "      <td>6489</td>\n",
       "    </tr>\n",
       "    <tr>\n",
       "      <td>266130</td>\n",
       "      <td>0.750000</td>\n",
       "      <td>3224</td>\n",
       "      <td>6489</td>\n",
       "    </tr>\n",
       "    <tr>\n",
       "      <td>266131</td>\n",
       "      <td>0.875000</td>\n",
       "      <td>3831</td>\n",
       "      <td>6489</td>\n",
       "    </tr>\n",
       "    <tr>\n",
       "      <td>266132</td>\n",
       "      <td>1.000000</td>\n",
       "      <td>3367</td>\n",
       "      <td>6489</td>\n",
       "    </tr>\n",
       "  </tbody>\n",
       "</table>\n",
       "<p>266133 rows × 3 columns</p>\n",
       "</div>"
      ],
      "text/plain": [
       "        playtime_cdf   uid   aid\n",
       "0           0.054187  1516     0\n",
       "1           0.054187  1313     0\n",
       "2           0.054187  4154     0\n",
       "3           0.054187  1279     0\n",
       "4           0.054187  1138     0\n",
       "...              ...   ...   ...\n",
       "266128      0.500000  2680  6489\n",
       "266129      0.625000  3819  6489\n",
       "266130      0.750000  3224  6489\n",
       "266131      0.875000  3831  6489\n",
       "266132      1.000000  3367  6489\n",
       "\n",
       "[266133 rows x 3 columns]"
      ]
     },
     "execution_count": 57,
     "metadata": {},
     "output_type": "execute_result"
    }
   ],
   "source": [
    "df_rating"
   ]
  },
  {
   "cell_type": "code",
   "execution_count": 61,
   "metadata": {},
   "outputs": [],
   "source": [
    "game_user_matrix = df_rating.pivot(index='aid',columns='uid',values='playtime_cdf').fillna(0)\n",
    "game_user_sparse = csr_matrix(game_user_matrix.values)"
   ]
  },
  {
   "cell_type": "code",
   "execution_count": 62,
   "metadata": {},
   "outputs": [
    {
     "data": {
      "text/html": [
       "<div>\n",
       "<style scoped>\n",
       "    .dataframe tbody tr th:only-of-type {\n",
       "        vertical-align: middle;\n",
       "    }\n",
       "\n",
       "    .dataframe tbody tr th {\n",
       "        vertical-align: top;\n",
       "    }\n",
       "\n",
       "    .dataframe thead th {\n",
       "        text-align: right;\n",
       "    }\n",
       "</style>\n",
       "<table border=\"1\" class=\"dataframe\">\n",
       "  <thead>\n",
       "    <tr style=\"text-align: right;\">\n",
       "      <th>uid</th>\n",
       "      <th>0</th>\n",
       "      <th>1</th>\n",
       "      <th>2</th>\n",
       "      <th>3</th>\n",
       "      <th>4</th>\n",
       "      <th>5</th>\n",
       "      <th>6</th>\n",
       "      <th>7</th>\n",
       "      <th>8</th>\n",
       "      <th>9</th>\n",
       "      <th>...</th>\n",
       "      <th>4396</th>\n",
       "      <th>4397</th>\n",
       "      <th>4398</th>\n",
       "      <th>4399</th>\n",
       "      <th>4400</th>\n",
       "      <th>4401</th>\n",
       "      <th>4402</th>\n",
       "      <th>4403</th>\n",
       "      <th>4404</th>\n",
       "      <th>4405</th>\n",
       "    </tr>\n",
       "    <tr>\n",
       "      <th>aid</th>\n",
       "      <th></th>\n",
       "      <th></th>\n",
       "      <th></th>\n",
       "      <th></th>\n",
       "      <th></th>\n",
       "      <th></th>\n",
       "      <th></th>\n",
       "      <th></th>\n",
       "      <th></th>\n",
       "      <th></th>\n",
       "      <th></th>\n",
       "      <th></th>\n",
       "      <th></th>\n",
       "      <th></th>\n",
       "      <th></th>\n",
       "      <th></th>\n",
       "      <th></th>\n",
       "      <th></th>\n",
       "      <th></th>\n",
       "      <th></th>\n",
       "      <th></th>\n",
       "    </tr>\n",
       "  </thead>\n",
       "  <tbody>\n",
       "    <tr>\n",
       "      <td>0</td>\n",
       "      <td>0.934319</td>\n",
       "      <td>0.669951</td>\n",
       "      <td>0.763547</td>\n",
       "      <td>0.8867</td>\n",
       "      <td>0.37931</td>\n",
       "      <td>0.492611</td>\n",
       "      <td>0.0</td>\n",
       "      <td>0.937603</td>\n",
       "      <td>0.679803</td>\n",
       "      <td>0.917898</td>\n",
       "      <td>...</td>\n",
       "      <td>0.0</td>\n",
       "      <td>0.054187</td>\n",
       "      <td>0.0</td>\n",
       "      <td>0.0</td>\n",
       "      <td>0.0</td>\n",
       "      <td>0.0</td>\n",
       "      <td>0.0</td>\n",
       "      <td>0.0</td>\n",
       "      <td>0.0</td>\n",
       "      <td>0.0</td>\n",
       "    </tr>\n",
       "    <tr>\n",
       "      <td>1</td>\n",
       "      <td>0.000000</td>\n",
       "      <td>0.000000</td>\n",
       "      <td>0.000000</td>\n",
       "      <td>0.0000</td>\n",
       "      <td>0.00000</td>\n",
       "      <td>0.000000</td>\n",
       "      <td>0.0</td>\n",
       "      <td>0.000000</td>\n",
       "      <td>0.000000</td>\n",
       "      <td>0.000000</td>\n",
       "      <td>...</td>\n",
       "      <td>0.0</td>\n",
       "      <td>0.000000</td>\n",
       "      <td>0.0</td>\n",
       "      <td>0.0</td>\n",
       "      <td>0.0</td>\n",
       "      <td>0.0</td>\n",
       "      <td>0.0</td>\n",
       "      <td>0.0</td>\n",
       "      <td>0.0</td>\n",
       "      <td>0.0</td>\n",
       "    </tr>\n",
       "    <tr>\n",
       "      <td>2</td>\n",
       "      <td>0.000000</td>\n",
       "      <td>0.558559</td>\n",
       "      <td>0.000000</td>\n",
       "      <td>0.0000</td>\n",
       "      <td>0.00000</td>\n",
       "      <td>0.000000</td>\n",
       "      <td>0.0</td>\n",
       "      <td>0.000000</td>\n",
       "      <td>0.000000</td>\n",
       "      <td>0.000000</td>\n",
       "      <td>...</td>\n",
       "      <td>0.0</td>\n",
       "      <td>0.000000</td>\n",
       "      <td>0.0</td>\n",
       "      <td>0.0</td>\n",
       "      <td>0.0</td>\n",
       "      <td>0.0</td>\n",
       "      <td>0.0</td>\n",
       "      <td>0.0</td>\n",
       "      <td>0.0</td>\n",
       "      <td>0.0</td>\n",
       "    </tr>\n",
       "    <tr>\n",
       "      <td>3</td>\n",
       "      <td>0.000000</td>\n",
       "      <td>0.000000</td>\n",
       "      <td>0.000000</td>\n",
       "      <td>0.0000</td>\n",
       "      <td>0.00000</td>\n",
       "      <td>0.000000</td>\n",
       "      <td>0.0</td>\n",
       "      <td>0.000000</td>\n",
       "      <td>0.000000</td>\n",
       "      <td>0.000000</td>\n",
       "      <td>...</td>\n",
       "      <td>0.0</td>\n",
       "      <td>0.000000</td>\n",
       "      <td>0.0</td>\n",
       "      <td>0.0</td>\n",
       "      <td>0.0</td>\n",
       "      <td>0.0</td>\n",
       "      <td>0.0</td>\n",
       "      <td>0.0</td>\n",
       "      <td>0.0</td>\n",
       "      <td>0.0</td>\n",
       "    </tr>\n",
       "    <tr>\n",
       "      <td>4</td>\n",
       "      <td>0.000000</td>\n",
       "      <td>0.000000</td>\n",
       "      <td>0.000000</td>\n",
       "      <td>0.0000</td>\n",
       "      <td>0.00000</td>\n",
       "      <td>0.000000</td>\n",
       "      <td>0.0</td>\n",
       "      <td>0.000000</td>\n",
       "      <td>0.000000</td>\n",
       "      <td>0.000000</td>\n",
       "      <td>...</td>\n",
       "      <td>0.0</td>\n",
       "      <td>0.000000</td>\n",
       "      <td>0.0</td>\n",
       "      <td>0.0</td>\n",
       "      <td>0.0</td>\n",
       "      <td>0.0</td>\n",
       "      <td>0.0</td>\n",
       "      <td>0.0</td>\n",
       "      <td>0.0</td>\n",
       "      <td>0.0</td>\n",
       "    </tr>\n",
       "    <tr>\n",
       "      <td>...</td>\n",
       "      <td>...</td>\n",
       "      <td>...</td>\n",
       "      <td>...</td>\n",
       "      <td>...</td>\n",
       "      <td>...</td>\n",
       "      <td>...</td>\n",
       "      <td>...</td>\n",
       "      <td>...</td>\n",
       "      <td>...</td>\n",
       "      <td>...</td>\n",
       "      <td>...</td>\n",
       "      <td>...</td>\n",
       "      <td>...</td>\n",
       "      <td>...</td>\n",
       "      <td>...</td>\n",
       "      <td>...</td>\n",
       "      <td>...</td>\n",
       "      <td>...</td>\n",
       "      <td>...</td>\n",
       "      <td>...</td>\n",
       "      <td>...</td>\n",
       "    </tr>\n",
       "    <tr>\n",
       "      <td>6485</td>\n",
       "      <td>0.000000</td>\n",
       "      <td>0.000000</td>\n",
       "      <td>0.000000</td>\n",
       "      <td>0.0000</td>\n",
       "      <td>0.00000</td>\n",
       "      <td>0.000000</td>\n",
       "      <td>0.0</td>\n",
       "      <td>0.000000</td>\n",
       "      <td>0.000000</td>\n",
       "      <td>0.000000</td>\n",
       "      <td>...</td>\n",
       "      <td>0.0</td>\n",
       "      <td>0.000000</td>\n",
       "      <td>0.0</td>\n",
       "      <td>0.0</td>\n",
       "      <td>0.0</td>\n",
       "      <td>0.0</td>\n",
       "      <td>0.0</td>\n",
       "      <td>0.0</td>\n",
       "      <td>0.0</td>\n",
       "      <td>0.0</td>\n",
       "    </tr>\n",
       "    <tr>\n",
       "      <td>6486</td>\n",
       "      <td>0.000000</td>\n",
       "      <td>0.000000</td>\n",
       "      <td>0.000000</td>\n",
       "      <td>0.0000</td>\n",
       "      <td>0.00000</td>\n",
       "      <td>0.000000</td>\n",
       "      <td>0.0</td>\n",
       "      <td>0.000000</td>\n",
       "      <td>0.000000</td>\n",
       "      <td>0.000000</td>\n",
       "      <td>...</td>\n",
       "      <td>0.0</td>\n",
       "      <td>0.000000</td>\n",
       "      <td>0.0</td>\n",
       "      <td>0.0</td>\n",
       "      <td>0.0</td>\n",
       "      <td>0.0</td>\n",
       "      <td>0.0</td>\n",
       "      <td>0.0</td>\n",
       "      <td>0.0</td>\n",
       "      <td>0.0</td>\n",
       "    </tr>\n",
       "    <tr>\n",
       "      <td>6487</td>\n",
       "      <td>0.000000</td>\n",
       "      <td>0.000000</td>\n",
       "      <td>0.000000</td>\n",
       "      <td>0.0000</td>\n",
       "      <td>0.00000</td>\n",
       "      <td>0.000000</td>\n",
       "      <td>0.0</td>\n",
       "      <td>0.000000</td>\n",
       "      <td>0.000000</td>\n",
       "      <td>0.000000</td>\n",
       "      <td>...</td>\n",
       "      <td>0.0</td>\n",
       "      <td>0.000000</td>\n",
       "      <td>0.0</td>\n",
       "      <td>0.0</td>\n",
       "      <td>0.0</td>\n",
       "      <td>0.0</td>\n",
       "      <td>0.0</td>\n",
       "      <td>0.0</td>\n",
       "      <td>0.0</td>\n",
       "      <td>0.0</td>\n",
       "    </tr>\n",
       "    <tr>\n",
       "      <td>6488</td>\n",
       "      <td>0.000000</td>\n",
       "      <td>0.000000</td>\n",
       "      <td>0.000000</td>\n",
       "      <td>0.0000</td>\n",
       "      <td>0.00000</td>\n",
       "      <td>0.000000</td>\n",
       "      <td>0.0</td>\n",
       "      <td>0.000000</td>\n",
       "      <td>0.000000</td>\n",
       "      <td>0.000000</td>\n",
       "      <td>...</td>\n",
       "      <td>0.0</td>\n",
       "      <td>0.000000</td>\n",
       "      <td>0.0</td>\n",
       "      <td>0.0</td>\n",
       "      <td>0.0</td>\n",
       "      <td>0.0</td>\n",
       "      <td>0.0</td>\n",
       "      <td>0.0</td>\n",
       "      <td>0.0</td>\n",
       "      <td>0.0</td>\n",
       "    </tr>\n",
       "    <tr>\n",
       "      <td>6489</td>\n",
       "      <td>0.000000</td>\n",
       "      <td>0.000000</td>\n",
       "      <td>0.000000</td>\n",
       "      <td>0.0000</td>\n",
       "      <td>0.00000</td>\n",
       "      <td>0.000000</td>\n",
       "      <td>0.0</td>\n",
       "      <td>0.000000</td>\n",
       "      <td>0.000000</td>\n",
       "      <td>0.000000</td>\n",
       "      <td>...</td>\n",
       "      <td>0.0</td>\n",
       "      <td>0.000000</td>\n",
       "      <td>0.0</td>\n",
       "      <td>0.0</td>\n",
       "      <td>0.0</td>\n",
       "      <td>0.0</td>\n",
       "      <td>0.0</td>\n",
       "      <td>0.0</td>\n",
       "      <td>0.0</td>\n",
       "      <td>0.0</td>\n",
       "    </tr>\n",
       "  </tbody>\n",
       "</table>\n",
       "<p>6490 rows × 4406 columns</p>\n",
       "</div>"
      ],
      "text/plain": [
       "uid       0         1         2       3        4         5     6         7     \\\n",
       "aid                                                                             \n",
       "0     0.934319  0.669951  0.763547  0.8867  0.37931  0.492611   0.0  0.937603   \n",
       "1     0.000000  0.000000  0.000000  0.0000  0.00000  0.000000   0.0  0.000000   \n",
       "2     0.000000  0.558559  0.000000  0.0000  0.00000  0.000000   0.0  0.000000   \n",
       "3     0.000000  0.000000  0.000000  0.0000  0.00000  0.000000   0.0  0.000000   \n",
       "4     0.000000  0.000000  0.000000  0.0000  0.00000  0.000000   0.0  0.000000   \n",
       "...        ...       ...       ...     ...      ...       ...   ...       ...   \n",
       "6485  0.000000  0.000000  0.000000  0.0000  0.00000  0.000000   0.0  0.000000   \n",
       "6486  0.000000  0.000000  0.000000  0.0000  0.00000  0.000000   0.0  0.000000   \n",
       "6487  0.000000  0.000000  0.000000  0.0000  0.00000  0.000000   0.0  0.000000   \n",
       "6488  0.000000  0.000000  0.000000  0.0000  0.00000  0.000000   0.0  0.000000   \n",
       "6489  0.000000  0.000000  0.000000  0.0000  0.00000  0.000000   0.0  0.000000   \n",
       "\n",
       "uid       8         9     ...  4396      4397  4398  4399  4400  4401  4402  \\\n",
       "aid                       ...                                                 \n",
       "0     0.679803  0.917898  ...   0.0  0.054187   0.0   0.0   0.0   0.0   0.0   \n",
       "1     0.000000  0.000000  ...   0.0  0.000000   0.0   0.0   0.0   0.0   0.0   \n",
       "2     0.000000  0.000000  ...   0.0  0.000000   0.0   0.0   0.0   0.0   0.0   \n",
       "3     0.000000  0.000000  ...   0.0  0.000000   0.0   0.0   0.0   0.0   0.0   \n",
       "4     0.000000  0.000000  ...   0.0  0.000000   0.0   0.0   0.0   0.0   0.0   \n",
       "...        ...       ...  ...   ...       ...   ...   ...   ...   ...   ...   \n",
       "6485  0.000000  0.000000  ...   0.0  0.000000   0.0   0.0   0.0   0.0   0.0   \n",
       "6486  0.000000  0.000000  ...   0.0  0.000000   0.0   0.0   0.0   0.0   0.0   \n",
       "6487  0.000000  0.000000  ...   0.0  0.000000   0.0   0.0   0.0   0.0   0.0   \n",
       "6488  0.000000  0.000000  ...   0.0  0.000000   0.0   0.0   0.0   0.0   0.0   \n",
       "6489  0.000000  0.000000  ...   0.0  0.000000   0.0   0.0   0.0   0.0   0.0   \n",
       "\n",
       "uid   4403  4404  4405  \n",
       "aid                     \n",
       "0      0.0   0.0   0.0  \n",
       "1      0.0   0.0   0.0  \n",
       "2      0.0   0.0   0.0  \n",
       "3      0.0   0.0   0.0  \n",
       "4      0.0   0.0   0.0  \n",
       "...    ...   ...   ...  \n",
       "6485   0.0   0.0   0.0  \n",
       "6486   0.0   0.0   0.0  \n",
       "6487   0.0   0.0   0.0  \n",
       "6488   0.0   0.0   0.0  \n",
       "6489   0.0   0.0   0.0  \n",
       "\n",
       "[6490 rows x 4406 columns]"
      ]
     },
     "execution_count": 62,
     "metadata": {},
     "output_type": "execute_result"
    }
   ],
   "source": [
    "game_user_matrix"
   ]
  },
  {
   "cell_type": "code",
   "execution_count": 221,
   "metadata": {},
   "outputs": [
    {
     "data": {
      "text/plain": [
       "NearestNeighbors(algorithm='brute', leaf_size=30, metric='cosine',\n",
       "                 metric_params=None, n_jobs=-1, n_neighbors=20, p=2,\n",
       "                 radius=1.0)"
      ]
     },
     "execution_count": 221,
     "metadata": {},
     "output_type": "execute_result"
    }
   ],
   "source": [
    "model_knn = NearestNeighbors(metric='cosine', algorithm='brute', n_neighbors=20, n_jobs=-1)\n",
    "model_knn.fit(game_user_sparse)"
   ]
  },
  {
   "cell_type": "code",
   "execution_count": 273,
   "metadata": {},
   "outputs": [
    {
     "ename": "ValueError",
     "evalue": "Expected 2D array, got 1D array instead:\narray=[0. 0. 0. ... 0. 0. 0.].\nReshape your data either using array.reshape(-1, 1) if your data has a single feature or array.reshape(1, -1) if it contains a single sample.",
     "output_type": "error",
     "traceback": [
      "\u001b[0;31m---------------------------------------------------------------------------\u001b[0m",
      "\u001b[0;31mValueError\u001b[0m                                Traceback (most recent call last)",
      "\u001b[0;32m<ipython-input-273-225a4a3831de>\u001b[0m in \u001b[0;36m<module>\u001b[0;34m\u001b[0m\n\u001b[0;32m----> 1\u001b[0;31m \u001b[0mmodel_knn\u001b[0m\u001b[0;34m.\u001b[0m\u001b[0mkneighbors\u001b[0m\u001b[0;34m(\u001b[0m\u001b[0mgame_user_matrix\u001b[0m\u001b[0;34m.\u001b[0m\u001b[0miloc\u001b[0m\u001b[0;34m[\u001b[0m\u001b[0;36m1000\u001b[0m\u001b[0;34m,\u001b[0m\u001b[0;34m:\u001b[0m\u001b[0;34m]\u001b[0m\u001b[0;34m)\u001b[0m\u001b[0;34m\u001b[0m\u001b[0;34m\u001b[0m\u001b[0m\n\u001b[0m",
      "\u001b[0;32m/opt/anaconda3/lib/python3.7/site-packages/sklearn/neighbors/base.py\u001b[0m in \u001b[0;36mkneighbors\u001b[0;34m(self, X, n_neighbors, return_distance)\u001b[0m\n\u001b[1;32m    400\u001b[0m         \u001b[0;32mif\u001b[0m \u001b[0mX\u001b[0m \u001b[0;32mis\u001b[0m \u001b[0;32mnot\u001b[0m \u001b[0;32mNone\u001b[0m\u001b[0;34m:\u001b[0m\u001b[0;34m\u001b[0m\u001b[0;34m\u001b[0m\u001b[0m\n\u001b[1;32m    401\u001b[0m             \u001b[0mquery_is_train\u001b[0m \u001b[0;34m=\u001b[0m \u001b[0;32mFalse\u001b[0m\u001b[0;34m\u001b[0m\u001b[0;34m\u001b[0m\u001b[0m\n\u001b[0;32m--> 402\u001b[0;31m             \u001b[0mX\u001b[0m \u001b[0;34m=\u001b[0m \u001b[0mcheck_array\u001b[0m\u001b[0;34m(\u001b[0m\u001b[0mX\u001b[0m\u001b[0;34m,\u001b[0m \u001b[0maccept_sparse\u001b[0m\u001b[0;34m=\u001b[0m\u001b[0;34m'csr'\u001b[0m\u001b[0;34m)\u001b[0m\u001b[0;34m\u001b[0m\u001b[0;34m\u001b[0m\u001b[0m\n\u001b[0m\u001b[1;32m    403\u001b[0m         \u001b[0;32melse\u001b[0m\u001b[0;34m:\u001b[0m\u001b[0;34m\u001b[0m\u001b[0;34m\u001b[0m\u001b[0m\n\u001b[1;32m    404\u001b[0m             \u001b[0mquery_is_train\u001b[0m \u001b[0;34m=\u001b[0m \u001b[0;32mTrue\u001b[0m\u001b[0;34m\u001b[0m\u001b[0;34m\u001b[0m\u001b[0m\n",
      "\u001b[0;32m/opt/anaconda3/lib/python3.7/site-packages/sklearn/utils/validation.py\u001b[0m in \u001b[0;36mcheck_array\u001b[0;34m(array, accept_sparse, accept_large_sparse, dtype, order, copy, force_all_finite, ensure_2d, allow_nd, ensure_min_samples, ensure_min_features, warn_on_dtype, estimator)\u001b[0m\n\u001b[1;32m    519\u001b[0m                     \u001b[0;34m\"Reshape your data either using array.reshape(-1, 1) if \"\u001b[0m\u001b[0;34m\u001b[0m\u001b[0;34m\u001b[0m\u001b[0m\n\u001b[1;32m    520\u001b[0m                     \u001b[0;34m\"your data has a single feature or array.reshape(1, -1) \"\u001b[0m\u001b[0;34m\u001b[0m\u001b[0;34m\u001b[0m\u001b[0m\n\u001b[0;32m--> 521\u001b[0;31m                     \"if it contains a single sample.\".format(array))\n\u001b[0m\u001b[1;32m    522\u001b[0m \u001b[0;34m\u001b[0m\u001b[0m\n\u001b[1;32m    523\u001b[0m         \u001b[0;31m# in the future np.flexible dtypes will be handled like object dtypes\u001b[0m\u001b[0;34m\u001b[0m\u001b[0;34m\u001b[0m\u001b[0;34m\u001b[0m\u001b[0m\n",
      "\u001b[0;31mValueError\u001b[0m: Expected 2D array, got 1D array instead:\narray=[0. 0. 0. ... 0. 0. 0.].\nReshape your data either using array.reshape(-1, 1) if your data has a single feature or array.reshape(1, -1) if it contains a single sample."
     ]
    }
   ],
   "source": [
    "model_knn.kneighbors(game_user_matrix.iloc[1000,:])"
   ]
  },
  {
   "cell_type": "code",
   "execution_count": 265,
   "metadata": {},
   "outputs": [
    {
     "data": {
      "text/plain": [
       "2879"
      ]
     },
     "execution_count": 265,
     "metadata": {},
     "output_type": "execute_result"
    }
   ],
   "source": [
    "query_index = np.random.choice(game_user_matrix.shape[0])\n",
    "query_index"
   ]
  },
  {
   "cell_type": "code",
   "execution_count": 281,
   "metadata": {},
   "outputs": [],
   "source": [
    "distances, indices = model_knn.kneighbors(np.array(game_user_matrix.iloc[query_index,:]).reshape(1,-1),n_neighbors= 6)"
   ]
  },
  {
   "cell_type": "code",
   "execution_count": 286,
   "metadata": {},
   "outputs": [
    {
     "data": {
      "text/plain": [
       "array([1.11022302e-16, 1.11022302e-16, 2.00000000e-01, 2.82862834e-01,\n",
       "       2.82862834e-01, 2.82862834e-01])"
      ]
     },
     "execution_count": 286,
     "metadata": {},
     "output_type": "execute_result"
    }
   ],
   "source": [
    "distances.flatten()"
   ]
  },
  {
   "cell_type": "markdown",
   "metadata": {},
   "source": [
    "## Collabroative Filtering --ALS"
   ]
  },
  {
   "cell_type": "code",
   "execution_count": 287,
   "metadata": {},
   "outputs": [],
   "source": [
    "def recommendation_als_based():\n",
    "    print('ALS Model')\n",
    "    sc = SparkContext()\n",
    "    spark = SparkSession(sc)\n",
    "\n",
    "    spark.read.format(\"jdbc\").option(\"url\", jdbc_url)\\\n",
    "                .option(\"user\", username).option(\"password\", password)\\\n",
    "                .option(\"dbtable\", \"game_steam_user_inventory\")\\\n",
    "                .load().createOrReplaceTempView('user_inventory')\n",
    "\n",
    "\n",
    "    spark.read.format(\"jdbc\").option(\"url\", jdbc_url)\\\n",
    "                .option(\"user\", username).option(\"password\", password)\\\n",
    "                .option(\"dbtable\", \"game_steam_app\")\\\n",
    "                .load().createOrReplaceTempView('game_steam_app')\n",
    "\n",
    "\n",
    "    df_user_playtime = spark.sql('SELECT DENSE_RANK() OVER (ORDER BY user_id) AS user, user_id, app_id AS item, playtime_forever AS rating FROM user_inventory WHERE playtime_forever > 0')\n",
    "    df_valid_games = spark.sql('SELECT app_id FROM game_steam_app WHERE short_description IS NOT NULL AND type = \"game\" AND initial_price IS NOT NULL')\n",
    "    df_user_inventory = df_user_playtime.join(df_valid_games, df_user_playtime['item'] == df_valid_games['app_id'], 'inner').select('user','user_id','item','rating')\n",
    "\n",
    "    dic_real_user_id = df_user_inventory.select('user','user_id').toPandas().set_index('user')['user_id'].to_dict()\n",
    "    als = ALS(rank = 5)\n",
    "    model = als.fit(df_user_inventory)\n",
    "    recommended_games = model.recommendForAllUsers(10)\n",
    "    dic_recomended_als_based = {}\n",
    "    for user, lst_recommended_games in recommended_games.select('user', 'recommendations.item').toPandas().set_index('user')['item'].to_dict().items():\n",
    "        user_id = dic_real_user_id.get(user)\n",
    "        dic_recomended_als_based[user_id] = {}\n",
    "        for i, app_id in enumerate(lst_recommended_games):\n",
    "            dic_recomended_als_based[user_id].update({i:app_id})\n",
    "\n",
    "\n",
    "    df_als_based_result = pd.DataFrame.from_dict(dic_recomended_als_based, 'index')\n",
    "    df_als_based_result.index.name = 'user_id'\n",
    "    df_als_based_result.reset_index(inplace=True)\n",
    "    df_als_based_result.to_sql('recommended_games_als_based', engine, if_exists='replace', chunksize = 1000, index = False)\n",
    "\n"
   ]
  },
  {
   "cell_type": "code",
   "execution_count": 288,
   "metadata": {},
   "outputs": [
    {
     "name": "stdout",
     "output_type": "stream",
     "text": [
      "ALS Model\n"
     ]
    },
    {
     "ename": "ValueError",
     "evalue": "Cannot run multiple SparkContexts at once; existing SparkContext(app=pyspark-shell, master=local[*]) created by __init__ at <ipython-input-16-73ad000ecbc7>:1 ",
     "output_type": "error",
     "traceback": [
      "\u001b[0;31m---------------------------------------------------------------------------\u001b[0m",
      "\u001b[0;31mValueError\u001b[0m                                Traceback (most recent call last)",
      "\u001b[0;32m<ipython-input-288-44f632dacf40>\u001b[0m in \u001b[0;36m<module>\u001b[0;34m\u001b[0m\n\u001b[0;32m----> 1\u001b[0;31m \u001b[0mrecommendation_als_based\u001b[0m\u001b[0;34m(\u001b[0m\u001b[0;34m)\u001b[0m\u001b[0;34m\u001b[0m\u001b[0;34m\u001b[0m\u001b[0m\n\u001b[0m",
      "\u001b[0;32m<ipython-input-287-9970f4b614fd>\u001b[0m in \u001b[0;36mrecommendation_als_based\u001b[0;34m()\u001b[0m\n\u001b[1;32m      1\u001b[0m \u001b[0;32mdef\u001b[0m \u001b[0mrecommendation_als_based\u001b[0m\u001b[0;34m(\u001b[0m\u001b[0;34m)\u001b[0m\u001b[0;34m:\u001b[0m\u001b[0;34m\u001b[0m\u001b[0;34m\u001b[0m\u001b[0m\n\u001b[1;32m      2\u001b[0m     \u001b[0mprint\u001b[0m\u001b[0;34m(\u001b[0m\u001b[0;34m'ALS Model'\u001b[0m\u001b[0;34m)\u001b[0m\u001b[0;34m\u001b[0m\u001b[0;34m\u001b[0m\u001b[0m\n\u001b[0;32m----> 3\u001b[0;31m     \u001b[0msc\u001b[0m \u001b[0;34m=\u001b[0m \u001b[0mSparkContext\u001b[0m\u001b[0;34m(\u001b[0m\u001b[0;34m)\u001b[0m\u001b[0;34m\u001b[0m\u001b[0;34m\u001b[0m\u001b[0m\n\u001b[0m\u001b[1;32m      4\u001b[0m     \u001b[0mspark\u001b[0m \u001b[0;34m=\u001b[0m \u001b[0mSparkSession\u001b[0m\u001b[0;34m(\u001b[0m\u001b[0msc\u001b[0m\u001b[0;34m)\u001b[0m\u001b[0;34m\u001b[0m\u001b[0;34m\u001b[0m\u001b[0m\n\u001b[1;32m      5\u001b[0m \u001b[0;34m\u001b[0m\u001b[0m\n",
      "\u001b[0;32m/opt/anaconda3/lib/python3.7/site-packages/pyspark/context.py\u001b[0m in \u001b[0;36m__init__\u001b[0;34m(self, master, appName, sparkHome, pyFiles, environment, batchSize, serializer, conf, gateway, jsc, profiler_cls)\u001b[0m\n\u001b[1;32m    131\u001b[0m                     \" note this option will be removed in Spark 3.0\")\n\u001b[1;32m    132\u001b[0m \u001b[0;34m\u001b[0m\u001b[0m\n\u001b[0;32m--> 133\u001b[0;31m         \u001b[0mSparkContext\u001b[0m\u001b[0;34m.\u001b[0m\u001b[0m_ensure_initialized\u001b[0m\u001b[0;34m(\u001b[0m\u001b[0mself\u001b[0m\u001b[0;34m,\u001b[0m \u001b[0mgateway\u001b[0m\u001b[0;34m=\u001b[0m\u001b[0mgateway\u001b[0m\u001b[0;34m,\u001b[0m \u001b[0mconf\u001b[0m\u001b[0;34m=\u001b[0m\u001b[0mconf\u001b[0m\u001b[0;34m)\u001b[0m\u001b[0;34m\u001b[0m\u001b[0;34m\u001b[0m\u001b[0m\n\u001b[0m\u001b[1;32m    134\u001b[0m         \u001b[0;32mtry\u001b[0m\u001b[0;34m:\u001b[0m\u001b[0;34m\u001b[0m\u001b[0;34m\u001b[0m\u001b[0m\n\u001b[1;32m    135\u001b[0m             self._do_init(master, appName, sparkHome, pyFiles, environment, batchSize, serializer,\n",
      "\u001b[0;32m/opt/anaconda3/lib/python3.7/site-packages/pyspark/context.py\u001b[0m in \u001b[0;36m_ensure_initialized\u001b[0;34m(cls, instance, gateway, conf)\u001b[0m\n\u001b[1;32m    330\u001b[0m                         \u001b[0;34m\" created by %s at %s:%s \"\u001b[0m\u001b[0;34m\u001b[0m\u001b[0;34m\u001b[0m\u001b[0m\n\u001b[1;32m    331\u001b[0m                         % (currentAppName, currentMaster,\n\u001b[0;32m--> 332\u001b[0;31m                             callsite.function, callsite.file, callsite.linenum))\n\u001b[0m\u001b[1;32m    333\u001b[0m                 \u001b[0;32melse\u001b[0m\u001b[0;34m:\u001b[0m\u001b[0;34m\u001b[0m\u001b[0;34m\u001b[0m\u001b[0m\n\u001b[1;32m    334\u001b[0m                     \u001b[0mSparkContext\u001b[0m\u001b[0;34m.\u001b[0m\u001b[0m_active_spark_context\u001b[0m \u001b[0;34m=\u001b[0m \u001b[0minstance\u001b[0m\u001b[0;34m\u001b[0m\u001b[0;34m\u001b[0m\u001b[0m\n",
      "\u001b[0;31mValueError\u001b[0m: Cannot run multiple SparkContexts at once; existing SparkContext(app=pyspark-shell, master=local[*]) created by __init__ at <ipython-input-16-73ad000ecbc7>:1 "
     ]
    }
   ],
   "source": [
    "recommendation_als_based()"
   ]
  },
  {
   "cell_type": "code",
   "execution_count": null,
   "metadata": {},
   "outputs": [],
   "source": []
  },
  {
   "cell_type": "markdown",
   "metadata": {},
   "source": [
    "## Define the necessary functions for building the model"
   ]
  },
  {
   "cell_type": "code",
   "execution_count": 2,
   "metadata": {},
   "outputs": [],
   "source": [
    "##(Reference: https://github.com/raghavjajodia/steamGameRec)\n",
    "def constructCodes(df) :\n",
    "    \"\"\"\n",
    "    Maps 'steamid' to categorical code 'sid'\n",
    "    Maps 'appid' to categorical code 'aid'\n",
    "    Returns :\n",
    "        1. Dataframe with columns 'sid', 'aid', 'playtime_forever'\n",
    "        2. Dictionary mapping 'steamid' to 'sid'\n",
    "        3. Dictionary mapping 'sid' to 'steamid'\n",
    "        4. Dictionary mapping 'appid' to 'aid'\n",
    "        5. Dictionary mapping 'aid' to 'appid'\n",
    "    \"\"\"\n",
    "    coded_df = df.copy(deep = True)\n",
    "    coded_df[\"steamid\"] = coded_df[\"steamid\"].astype(\"category\")\n",
    "    coded_df[\"appid\"] = coded_df[\"appid\"].astype(\"category\")\n",
    "    coded_df[\"sid\"] = coded_df[\"steamid\"].cat.codes\n",
    "    coded_df[\"aid\"] = coded_df[\"appid\"].cat.codes\n",
    "    \n",
    "    sid_to_steamid = dict(enumerate(coded_df[\"steamid\"].cat.categories))\n",
    "    aid_to_appid = dict(enumerate(coded_df[\"appid\"].cat.categories))\n",
    "    steamid_to_sid = {v : k for k, v in sid_to_steamid.items()}\n",
    "    appid_to_aid = {v : k for k, v in aid_to_appid.items()}\n",
    "    \n",
    "    coded_df.drop([\"steamid\", \"appid\"], axis = 1, inplace = True)\n",
    "    \n",
    "    return(coded_df, steamid_to_sid, sid_to_steamid, appid_to_aid, aid_to_appid)"
   ]
  },
  {
   "cell_type": "code",
   "execution_count": 3,
   "metadata": {},
   "outputs": [],
   "source": [
    "def getSplit(df, train_size, validation_size) :\n",
    "    \"\"\"\n",
    "    Returns Train, Validation and Test DataFrames\n",
    "    \"\"\"\n",
    "    train = df.copy(deep = True)\n",
    "    val = df.copy(deep = True)\n",
    "    test = df.copy(deep = True)\n",
    "    \n",
    "    assert train_size + validation_size < 1, \"train_size + validation_size should be less than 1\"\n",
    "    test_size = 1 - train_size - validation_size\n",
    "    \n",
    "    test_sample = df.groupby(\"sid\").apply(lambda x : x.sample(frac = test_size))\n",
    "    test_sample.reset_index(level = 0, drop = True, inplace = True)\n",
    "    test_idx = test_sample.index\n",
    "    train.drop(test_idx, inplace = True)\n",
    "    val.drop(test_idx, inplace = True)\n",
    "    \n",
    "    val_sample = train.groupby(\"sid\").apply(lambda x : x.sample(frac = validation_size / (1 - test_size)))\n",
    "    val_sample.reset_index(level = 0, drop = True, inplace = True)\n",
    "    val_idx = val_sample.index\n",
    "    train.drop(val_idx, inplace = True)\n",
    "    \n",
    "    assert train[\"sid\"].nunique() == df[\"sid\"].nunique()\n",
    "    assert val[\"sid\"].nunique() == df[\"sid\"].nunique()\n",
    "\n",
    "    #Contingency if any appids don't make it to train and val\n",
    "    if train[\"aid\"].nunique() != df[\"aid\"].nunique() :\n",
    "        missing_train_aid = list(set(df[\"aid\"].unique()) - set(train[\"aid\"].unique()))\n",
    "        train_append = []\n",
    "        for aid in missing_train_aid :\n",
    "            train_append.append([0, 0, aid])\n",
    "        train = train.append(pd.DataFrame(train_append, columns = [\"playtime_forever\", \"sid\", \"aid\"]), ignore_index = True)\n",
    "    \n",
    "    if val[\"aid\"].nunique() != df[\"aid\"].nunique() :\n",
    "        missing_val_aid = list(set(df[\"aid\"].unique()) - set(val[\"aid\"].unique()))\n",
    "        val_append = []\n",
    "        for aid in missing_val_aid :\n",
    "            val_append.append([0, 0, aid])\n",
    "        val = val.append(pd.DataFrame(val_append, columns = [\"playtime_forever\", \"sid\", \"aid\"]), ignore_index = True)  \n",
    "    \n",
    "    return(train, val, test)"
   ]
  },
  {
   "cell_type": "code",
   "execution_count": 4,
   "metadata": {},
   "outputs": [],
   "source": [
    "def trainModel(data, factors, epochs, conf_func, alpha, lmbda) :\n",
    "    \"\"\"\n",
    "    Builds and trains Implicit Matrix Factorization model.\n",
    "    Input :\n",
    "        1. data - Item x User Sparse Matrix\n",
    "        2. factors - Number of latent factors\n",
    "        3. epochs - Number of iterations of ALS over the training data\n",
    "        4. conf_func - Confidence function\n",
    "        5. alpha - Confidence parameter\n",
    "        6. lmbda - Regularization parameter\n",
    "        \n",
    "    Output : model\n",
    "    \"\"\"\n",
    "    model = implicit.als.AlternatingLeastSquares(factors = factors, regularization = lmbda, iterations = epochs)\n",
    "    if conf_func == \"linear\" :\n",
    "        model.fit(alpha * data, show_progress = False)\n",
    "    elif conf_func == \"log\" :\n",
    "        epsilon = 1\n",
    "        data.data = np.log(1 + data.data / epsilon)\n",
    "        model.fit(alpha * data, show_progress= False)\n",
    "    else :\n",
    "        print(\"{} is not a valid choice for conf_func. Choose one of the following : 'linear', 'log'\".format(conf_func))\n",
    "        return(None)\n",
    "    return(model)"
   ]
  },
  {
   "cell_type": "code",
   "execution_count": 6,
   "metadata": {},
   "outputs": [],
   "source": [
    "def constructSparseMatrices(df) :\n",
    "    \"\"\"\n",
    "    Constructs sparse matrices that will be used in ALS optimization\n",
    "    Input : Dataframe with columns - 'sid', 'aid', 'playtime_forever'\n",
    "    \n",
    "    Returns :\n",
    "        1. User x Item Sparse Matrix\n",
    "        2. Item x User Sparse Matrix\n",
    "    \"\"\"\n",
    "    data_useritem = sparse.csr_matrix((df[\"playtime_forever\"], (df[\"sid\"], df[\"aid\"])))\n",
    "    data_itemuser = sparse.csr_matrix((df[\"playtime_forever\"], (df[\"aid\"], df[\"sid\"])))\n",
    "    \n",
    "    sid_unique = df[\"sid\"].nunique()\n",
    "    aid_unique = df[\"aid\"].nunique()\n",
    "    \n",
    "    assert data_useritem.shape == (sid_unique, aid_unique)\n",
    "    assert data_itemuser.shape == (aid_unique, sid_unique)\n",
    "    \n",
    "    return(data_useritem, data_itemuser)"
   ]
  },
  {
   "cell_type": "markdown",
   "metadata": {},
   "source": [
    "## Data spliting and modeling"
   ]
  },
  {
   "cell_type": "code",
   "execution_count": 7,
   "metadata": {},
   "outputs": [
    {
     "name": "stderr",
     "output_type": "stream",
     "text": [
      "/Users/huangyiming/anaconda3/lib/python3.7/site-packages/numpy/lib/arraysetops.py:522: FutureWarning: elementwise comparison failed; returning scalar instead, but in the future will perform elementwise comparison\n",
      "  mask |= (ar1 == a)\n"
     ]
    }
   ],
   "source": [
    "df = pd.read_csv(\"final_data.csv\", index_col = 0)\n",
    "df_coded, steamid_to_sid, sid_to_steamid, appid_to_aid, aid_to_appid = constructCodes(df)\n",
    "train, val, test = getSplit(df_coded, train_size = 0.6, validation_size = 0.2)"
   ]
  },
  {
   "cell_type": "code",
   "execution_count": 10,
   "metadata": {},
   "outputs": [],
   "source": [
    "factors = 100\n",
    "epochs = 50\n",
    "alpha = 1\n",
    "lmbda = 1\n",
    "\n",
    "\n",
    "df = pd.read_csv(\"final_data.csv\", index_col = 0)\n",
    "df_coded, steamid_to_sid, sid_to_steamid, appid_to_aid, aid_to_appid = constructCodes(df)\n",
    "train, val, test = getSplit(df_coded, 0.6, 0.2)\n",
    "trainval_useritem, trainval_itemuser = constructSparseMatrices(val)\n",
    "start = time.time()\n",
    "model = trainModel(trainval_itemuser, factors, epochs, \"log\", alpha, lmbda)"
   ]
  },
  {
   "cell_type": "markdown",
   "metadata": {},
   "source": [
    "## Simple Recommended Results"
   ]
  },
  {
   "cell_type": "code",
   "execution_count": 11,
   "metadata": {},
   "outputs": [
    {
     "data": {
      "text/plain": [
       "0"
      ]
     },
     "execution_count": 11,
     "metadata": {},
     "output_type": "execute_result"
    }
   ],
   "source": [
    "# Convert original appid to aid to apply for the model\n",
    "appid_to_aid[10]"
   ]
  },
  {
   "cell_type": "code",
   "execution_count": 13,
   "metadata": {},
   "outputs": [
    {
     "name": "stdout",
     "output_type": "stream",
     "text": [
      "10\n",
      "80\n",
      "100\n",
      "30\n",
      "240\n",
      "60\n",
      "40\n",
      "300\n",
      "20\n",
      "70\n"
     ]
    }
   ],
   "source": [
    "#Games similar to item 10 :\n",
    "similar_to_item10 = model.similar_items(0)\n",
    "for item in similar_to_item10 :\n",
    "    aid = item[0]\n",
    "    appid = aid_to_appid[aid]\n",
    "    print(appid)"
   ]
  },
  {
   "cell_type": "code",
   "execution_count": 16,
   "metadata": {},
   "outputs": [
    {
     "data": {
      "text/plain": [
       "1985"
      ]
     },
     "execution_count": 16,
     "metadata": {},
     "output_type": "execute_result"
    }
   ],
   "source": [
    "#convert appid to aid to apply for the model\n",
    "appid_to_aid[230410]"
   ]
  },
  {
   "cell_type": "code",
   "execution_count": 15,
   "metadata": {},
   "outputs": [
    {
     "name": "stdout",
     "output_type": "stream",
     "text": [
      "230410\n",
      "550\n",
      "4000\n",
      "218620\n",
      "730\n",
      "620\n",
      "105600\n",
      "49520\n",
      "304930\n",
      "271590\n"
     ]
    }
   ],
   "source": [
    "#Games similar to item 230410 :\n",
    "similar_to_item230410 = model.similar_items(1985)\n",
    "for item in similar_to_item230410 :\n",
    "    aid = item[0]\n",
    "    appid = aid_to_appid[aid]\n",
    "    print(appid)"
   ]
  }
 ],
 "metadata": {
  "kernelspec": {
   "display_name": "Python 3",
   "language": "python",
   "name": "python3"
  },
  "language_info": {
   "codemirror_mode": {
    "name": "ipython",
    "version": 3
   },
   "file_extension": ".py",
   "mimetype": "text/x-python",
   "name": "python",
   "nbconvert_exporter": "python",
   "pygments_lexer": "ipython3",
   "version": "3.7.4"
  }
 },
 "nbformat": 4,
 "nbformat_minor": 2
}
